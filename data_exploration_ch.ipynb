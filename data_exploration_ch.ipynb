{
 "cells": [
  {
   "cell_type": "code",
   "execution_count": 44,
   "metadata": {},
   "outputs": [],
   "source": [
    "import pandas as pd\n",
    "import numpy as np\n",
    "import seaborn as sns\n",
    "import matplotlib.pyplot as mp\n",
    "import urllib.parse\n",
    "import os\n",
    "import pandas as pd\n",
    "from sqlalchemy import create_engine\n",
    "import psycopg2\n",
    "from dotenv import load_dotenv\n",
    "load_dotenv()\n",
    "POSTGRES_USERNAME = os.environ.get('JDB_USER')\n",
    "POSTGRES_PASSWORD = os.environ.get('JDB_PASSWORD')\n",
    "POSTGRES_ADDRESS = os.environ.get('JDB_HOST')\n",
    "POSTGRES_PORT = 5432\n",
    "POSTGRES_DBNAME = os.environ.get('JDB_NAME')\n",
    "postgres_str = ('postgresql://{username}:{password}@{ipaddress}:{port}/{dbname}'.format(username=POSTGRES_USERNAME, password=POSTGRES_PASSWORD, ipaddress=POSTGRES_ADDRESS, port=POSTGRES_PORT, dbname=POSTGRES_DBNAME))\n",
    "cnx = create_engine(postgres_str)"
   ]
  },
  {
   "cell_type": "code",
   "execution_count": 45,
   "metadata": {},
   "outputs": [
    {
     "data": {
      "text/html": [
       "<div>\n",
       "<style scoped>\n",
       "    .dataframe tbody tr th:only-of-type {\n",
       "        vertical-align: middle;\n",
       "    }\n",
       "\n",
       "    .dataframe tbody tr th {\n",
       "        vertical-align: top;\n",
       "    }\n",
       "\n",
       "    .dataframe thead th {\n",
       "        text-align: right;\n",
       "    }\n",
       "</style>\n",
       "<table border=\"1\" class=\"dataframe\">\n",
       "  <thead>\n",
       "    <tr style=\"text-align: right;\">\n",
       "      <th></th>\n",
       "      <th>defendant_id</th>\n",
       "      <th>name</th>\n",
       "      <th>gender</th>\n",
       "      <th>race</th>\n",
       "      <th>start_date</th>\n",
       "      <th>end_date</th>\n",
       "      <th>days</th>\n",
       "      <th>min_level</th>\n",
       "      <th>max_level</th>\n",
       "      <th>has_violation</th>\n",
       "      <th>violent</th>\n",
       "      <th>dwi</th>\n",
       "      <th>flag</th>\n",
       "      <th>not_primary_custodian</th>\n",
       "    </tr>\n",
       "  </thead>\n",
       "  <tbody>\n",
       "    <tr>\n",
       "      <th>0</th>\n",
       "      <td>31761</td>\n",
       "      <td>PRESTWOOD, ZACHARY TYLER</td>\n",
       "      <td>M</td>\n",
       "      <td>W</td>\n",
       "      <td>2022-02-24</td>\n",
       "      <td>2022-02-24</td>\n",
       "      <td>1.0</td>\n",
       "      <td>-3</td>\n",
       "      <td>4</td>\n",
       "      <td>0</td>\n",
       "      <td>1</td>\n",
       "      <td>0</td>\n",
       "      <td>0</td>\n",
       "      <td>0</td>\n",
       "    </tr>\n",
       "    <tr>\n",
       "      <th>1</th>\n",
       "      <td>26031</td>\n",
       "      <td>TRAVIS, CHRISTOPHER ADAM</td>\n",
       "      <td>M</td>\n",
       "      <td>W</td>\n",
       "      <td>2022-02-11</td>\n",
       "      <td>2022-02-15</td>\n",
       "      <td>5.0</td>\n",
       "      <td>0</td>\n",
       "      <td>2</td>\n",
       "      <td>1</td>\n",
       "      <td>0</td>\n",
       "      <td>0</td>\n",
       "      <td>0</td>\n",
       "      <td>0</td>\n",
       "    </tr>\n",
       "    <tr>\n",
       "      <th>2</th>\n",
       "      <td>28218</td>\n",
       "      <td>PETERS, BRYSON JOSIAH</td>\n",
       "      <td>M</td>\n",
       "      <td>W</td>\n",
       "      <td>2022-02-16</td>\n",
       "      <td>2022-02-18</td>\n",
       "      <td>3.0</td>\n",
       "      <td>11</td>\n",
       "      <td>12</td>\n",
       "      <td>0</td>\n",
       "      <td>1</td>\n",
       "      <td>0</td>\n",
       "      <td>0</td>\n",
       "      <td>0</td>\n",
       "    </tr>\n",
       "    <tr>\n",
       "      <th>3</th>\n",
       "      <td>39793</td>\n",
       "      <td>KARRICK, LUKE MICHAEL</td>\n",
       "      <td>M</td>\n",
       "      <td>W</td>\n",
       "      <td>2022-03-15</td>\n",
       "      <td>2022-03-19</td>\n",
       "      <td>5.0</td>\n",
       "      <td>0</td>\n",
       "      <td>0</td>\n",
       "      <td>0</td>\n",
       "      <td>0</td>\n",
       "      <td>0</td>\n",
       "      <td>0</td>\n",
       "      <td>1</td>\n",
       "    </tr>\n",
       "    <tr>\n",
       "      <th>4</th>\n",
       "      <td>41422</td>\n",
       "      <td>HERNANDEZ, ERMENEGILDO ESPINOZA</td>\n",
       "      <td>M</td>\n",
       "      <td>W</td>\n",
       "      <td>2022-03-19</td>\n",
       "      <td>2022-03-22</td>\n",
       "      <td>4.0</td>\n",
       "      <td>0</td>\n",
       "      <td>1</td>\n",
       "      <td>0</td>\n",
       "      <td>0</td>\n",
       "      <td>0</td>\n",
       "      <td>0</td>\n",
       "      <td>1</td>\n",
       "    </tr>\n",
       "  </tbody>\n",
       "</table>\n",
       "</div>"
      ],
      "text/plain": [
       "   defendant_id                             name gender race  start_date  \\\n",
       "0         31761         PRESTWOOD, ZACHARY TYLER      M    W  2022-02-24   \n",
       "1         26031         TRAVIS, CHRISTOPHER ADAM      M    W  2022-02-11   \n",
       "2         28218            PETERS, BRYSON JOSIAH      M    W  2022-02-16   \n",
       "3         39793            KARRICK, LUKE MICHAEL      M    W  2022-03-15   \n",
       "4         41422  HERNANDEZ, ERMENEGILDO ESPINOZA      M    W  2022-03-19   \n",
       "\n",
       "     end_date  days  min_level  max_level  has_violation  violent  dwi  flag  \\\n",
       "0  2022-02-24   1.0         -3          4              0        1    0     0   \n",
       "1  2022-02-15   5.0          0          2              1        0    0     0   \n",
       "2  2022-02-18   3.0         11         12              0        1    0     0   \n",
       "3  2022-03-19   5.0          0          0              0        0    0     0   \n",
       "4  2022-03-22   4.0          0          1              0        0    0     0   \n",
       "\n",
       "   not_primary_custodian  \n",
       "0                      0  \n",
       "1                      0  \n",
       "2                      0  \n",
       "3                      1  \n",
       "4                      1  "
      ]
     },
     "execution_count": 45,
     "metadata": {},
     "output_type": "execute_result"
    }
   ],
   "source": [
    "df = pd.read_sql_query('''SELECT * FROM jaildata.stays_summary;''', cnx)\n",
    "df.head()"
   ]
  },
  {
   "cell_type": "code",
   "execution_count": 46,
   "metadata": {
    "scrolled": true
   },
   "outputs": [
    {
     "data": {
      "text/html": [
       "<div>\n",
       "<style scoped>\n",
       "    .dataframe tbody tr th:only-of-type {\n",
       "        vertical-align: middle;\n",
       "    }\n",
       "\n",
       "    .dataframe tbody tr th {\n",
       "        vertical-align: top;\n",
       "    }\n",
       "\n",
       "    .dataframe thead th {\n",
       "        text-align: right;\n",
       "    }\n",
       "</style>\n",
       "<table border=\"1\" class=\"dataframe\">\n",
       "  <thead>\n",
       "    <tr style=\"text-align: right;\">\n",
       "      <th></th>\n",
       "      <th>defendant_id</th>\n",
       "      <th>name</th>\n",
       "      <th>gender</th>\n",
       "      <th>race</th>\n",
       "      <th>start_date</th>\n",
       "      <th>end_date</th>\n",
       "      <th>days</th>\n",
       "      <th>min_level</th>\n",
       "      <th>max_level</th>\n",
       "      <th>has_violation</th>\n",
       "      <th>violent</th>\n",
       "      <th>dwi</th>\n",
       "      <th>flag</th>\n",
       "      <th>not_primary_custodian</th>\n",
       "    </tr>\n",
       "  </thead>\n",
       "  <tbody>\n",
       "    <tr>\n",
       "      <th>0</th>\n",
       "      <td>31761</td>\n",
       "      <td>PRESTWOOD, ZACHARY TYLER</td>\n",
       "      <td>M</td>\n",
       "      <td>W</td>\n",
       "      <td>2022-02-24</td>\n",
       "      <td>2022-02-24</td>\n",
       "      <td>1.0</td>\n",
       "      <td>-3</td>\n",
       "      <td>4</td>\n",
       "      <td>0</td>\n",
       "      <td>1</td>\n",
       "      <td>0</td>\n",
       "      <td>0</td>\n",
       "      <td>0</td>\n",
       "    </tr>\n",
       "    <tr>\n",
       "      <th>1</th>\n",
       "      <td>26031</td>\n",
       "      <td>TRAVIS, CHRISTOPHER ADAM</td>\n",
       "      <td>M</td>\n",
       "      <td>W</td>\n",
       "      <td>2022-02-11</td>\n",
       "      <td>2022-02-15</td>\n",
       "      <td>5.0</td>\n",
       "      <td>0</td>\n",
       "      <td>2</td>\n",
       "      <td>1</td>\n",
       "      <td>0</td>\n",
       "      <td>0</td>\n",
       "      <td>0</td>\n",
       "      <td>0</td>\n",
       "    </tr>\n",
       "    <tr>\n",
       "      <th>2</th>\n",
       "      <td>28218</td>\n",
       "      <td>PETERS, BRYSON JOSIAH</td>\n",
       "      <td>M</td>\n",
       "      <td>W</td>\n",
       "      <td>2022-02-16</td>\n",
       "      <td>2022-02-18</td>\n",
       "      <td>3.0</td>\n",
       "      <td>11</td>\n",
       "      <td>12</td>\n",
       "      <td>0</td>\n",
       "      <td>1</td>\n",
       "      <td>0</td>\n",
       "      <td>0</td>\n",
       "      <td>0</td>\n",
       "    </tr>\n",
       "    <tr>\n",
       "      <th>3</th>\n",
       "      <td>39793</td>\n",
       "      <td>KARRICK, LUKE MICHAEL</td>\n",
       "      <td>M</td>\n",
       "      <td>W</td>\n",
       "      <td>2022-03-15</td>\n",
       "      <td>2022-03-19</td>\n",
       "      <td>5.0</td>\n",
       "      <td>0</td>\n",
       "      <td>0</td>\n",
       "      <td>0</td>\n",
       "      <td>0</td>\n",
       "      <td>0</td>\n",
       "      <td>0</td>\n",
       "      <td>1</td>\n",
       "    </tr>\n",
       "    <tr>\n",
       "      <th>4</th>\n",
       "      <td>41422</td>\n",
       "      <td>HERNANDEZ, ERMENEGILDO ESPINOZA</td>\n",
       "      <td>M</td>\n",
       "      <td>W</td>\n",
       "      <td>2022-03-19</td>\n",
       "      <td>2022-03-22</td>\n",
       "      <td>4.0</td>\n",
       "      <td>0</td>\n",
       "      <td>1</td>\n",
       "      <td>0</td>\n",
       "      <td>0</td>\n",
       "      <td>0</td>\n",
       "      <td>0</td>\n",
       "      <td>1</td>\n",
       "    </tr>\n",
       "    <tr>\n",
       "      <th>...</th>\n",
       "      <td>...</td>\n",
       "      <td>...</td>\n",
       "      <td>...</td>\n",
       "      <td>...</td>\n",
       "      <td>...</td>\n",
       "      <td>...</td>\n",
       "      <td>...</td>\n",
       "      <td>...</td>\n",
       "      <td>...</td>\n",
       "      <td>...</td>\n",
       "      <td>...</td>\n",
       "      <td>...</td>\n",
       "      <td>...</td>\n",
       "      <td>...</td>\n",
       "    </tr>\n",
       "    <tr>\n",
       "      <th>889</th>\n",
       "      <td>8316</td>\n",
       "      <td>BLACK, MICHAEL ANTHONY</td>\n",
       "      <td>M</td>\n",
       "      <td>W</td>\n",
       "      <td>2022-01-04</td>\n",
       "      <td>2022-01-27</td>\n",
       "      <td>24.0</td>\n",
       "      <td>0</td>\n",
       "      <td>0</td>\n",
       "      <td>1</td>\n",
       "      <td>0</td>\n",
       "      <td>0</td>\n",
       "      <td>0</td>\n",
       "      <td>0</td>\n",
       "    </tr>\n",
       "    <tr>\n",
       "      <th>890</th>\n",
       "      <td>20296</td>\n",
       "      <td>WEEKS, JERRY ALLEN</td>\n",
       "      <td>M</td>\n",
       "      <td>W</td>\n",
       "      <td>2022-01-29</td>\n",
       "      <td>2022-02-10</td>\n",
       "      <td>13.0</td>\n",
       "      <td>3</td>\n",
       "      <td>3</td>\n",
       "      <td>0</td>\n",
       "      <td>0</td>\n",
       "      <td>0</td>\n",
       "      <td>0</td>\n",
       "      <td>0</td>\n",
       "    </tr>\n",
       "    <tr>\n",
       "      <th>891</th>\n",
       "      <td>27540</td>\n",
       "      <td>DAVIS, LOGAN WILLIAM</td>\n",
       "      <td>M</td>\n",
       "      <td>W</td>\n",
       "      <td>2022-02-15</td>\n",
       "      <td>2022-02-18</td>\n",
       "      <td>4.0</td>\n",
       "      <td>1</td>\n",
       "      <td>3</td>\n",
       "      <td>0</td>\n",
       "      <td>0</td>\n",
       "      <td>0</td>\n",
       "      <td>0</td>\n",
       "      <td>0</td>\n",
       "    </tr>\n",
       "    <tr>\n",
       "      <th>892</th>\n",
       "      <td>31200</td>\n",
       "      <td>KELLER, TIMOTHY SKYLER</td>\n",
       "      <td>M</td>\n",
       "      <td>W</td>\n",
       "      <td>2022-02-23</td>\n",
       "      <td>2022-02-23</td>\n",
       "      <td>1.0</td>\n",
       "      <td>3</td>\n",
       "      <td>3</td>\n",
       "      <td>0</td>\n",
       "      <td>0</td>\n",
       "      <td>0</td>\n",
       "      <td>0</td>\n",
       "      <td>0</td>\n",
       "    </tr>\n",
       "    <tr>\n",
       "      <th>893</th>\n",
       "      <td>31321</td>\n",
       "      <td>RAY, COREY DESHAWN</td>\n",
       "      <td>M</td>\n",
       "      <td>B</td>\n",
       "      <td>2022-02-23</td>\n",
       "      <td>2022-02-24</td>\n",
       "      <td>2.0</td>\n",
       "      <td>1</td>\n",
       "      <td>11</td>\n",
       "      <td>0</td>\n",
       "      <td>0</td>\n",
       "      <td>0</td>\n",
       "      <td>0</td>\n",
       "      <td>0</td>\n",
       "    </tr>\n",
       "  </tbody>\n",
       "</table>\n",
       "<p>894 rows × 14 columns</p>\n",
       "</div>"
      ],
      "text/plain": [
       "     defendant_id                             name gender race  start_date  \\\n",
       "0           31761         PRESTWOOD, ZACHARY TYLER      M    W  2022-02-24   \n",
       "1           26031         TRAVIS, CHRISTOPHER ADAM      M    W  2022-02-11   \n",
       "2           28218            PETERS, BRYSON JOSIAH      M    W  2022-02-16   \n",
       "3           39793            KARRICK, LUKE MICHAEL      M    W  2022-03-15   \n",
       "4           41422  HERNANDEZ, ERMENEGILDO ESPINOZA      M    W  2022-03-19   \n",
       "..            ...                              ...    ...  ...         ...   \n",
       "889          8316           BLACK, MICHAEL ANTHONY      M    W  2022-01-04   \n",
       "890         20296               WEEKS, JERRY ALLEN      M    W  2022-01-29   \n",
       "891         27540             DAVIS, LOGAN WILLIAM      M    W  2022-02-15   \n",
       "892         31200           KELLER, TIMOTHY SKYLER      M    W  2022-02-23   \n",
       "893         31321               RAY, COREY DESHAWN      M    B  2022-02-23   \n",
       "\n",
       "       end_date  days  min_level  max_level  has_violation  violent  dwi  \\\n",
       "0    2022-02-24   1.0         -3          4              0        1    0   \n",
       "1    2022-02-15   5.0          0          2              1        0    0   \n",
       "2    2022-02-18   3.0         11         12              0        1    0   \n",
       "3    2022-03-19   5.0          0          0              0        0    0   \n",
       "4    2022-03-22   4.0          0          1              0        0    0   \n",
       "..          ...   ...        ...        ...            ...      ...  ...   \n",
       "889  2022-01-27  24.0          0          0              1        0    0   \n",
       "890  2022-02-10  13.0          3          3              0        0    0   \n",
       "891  2022-02-18   4.0          1          3              0        0    0   \n",
       "892  2022-02-23   1.0          3          3              0        0    0   \n",
       "893  2022-02-24   2.0          1         11              0        0    0   \n",
       "\n",
       "     flag  not_primary_custodian  \n",
       "0       0                      0  \n",
       "1       0                      0  \n",
       "2       0                      0  \n",
       "3       0                      1  \n",
       "4       0                      1  \n",
       "..    ...                    ...  \n",
       "889     0                      0  \n",
       "890     0                      0  \n",
       "891     0                      0  \n",
       "892     0                      0  \n",
       "893     0                      0  \n",
       "\n",
       "[894 rows x 14 columns]"
      ]
     },
     "execution_count": 46,
     "metadata": {},
     "output_type": "execute_result"
    }
   ],
   "source": [
    "df"
   ]
  },
  {
   "cell_type": "code",
   "execution_count": 47,
   "metadata": {},
   "outputs": [
    {
     "data": {
      "text/plain": [
       "race  gender\n",
       "A     F           2\n",
       "      M           3\n",
       "B     F          27\n",
       "      M         128\n",
       "I     F           2\n",
       "      M           6\n",
       "U     M           1\n",
       "W     F         168\n",
       "      M         557\n",
       "dtype: int64"
      ]
     },
     "execution_count": 47,
     "metadata": {},
     "output_type": "execute_result"
    }
   ],
   "source": [
    "df.groupby(['race', 'gender']).size()"
   ]
  },
  {
   "cell_type": "code",
   "execution_count": 48,
   "metadata": {},
   "outputs": [
    {
     "data": {
      "text/plain": [
       "0.22494432071269488"
      ]
     },
     "execution_count": 48,
     "metadata": {},
     "output_type": "execute_result"
    }
   ],
   "source": [
    "(13+87+1)/(13+87+56+291+2)"
   ]
  },
  {
   "cell_type": "code",
   "execution_count": 6,
   "metadata": {},
   "outputs": [
    {
     "data": {
      "text/plain": [
       "0.18840579710144928"
      ]
     },
     "execution_count": 6,
     "metadata": {},
     "output_type": "execute_result"
    }
   ],
   "source": [
    "13/(56+13)"
   ]
  },
  {
   "cell_type": "code",
   "execution_count": 7,
   "metadata": {},
   "outputs": [
    {
     "data": {
      "text/plain": [
       "0.23015873015873015"
      ]
     },
     "execution_count": 7,
     "metadata": {},
     "output_type": "execute_result"
    }
   ],
   "source": [
    "87/(87+291)"
   ]
  },
  {
   "cell_type": "markdown",
   "metadata": {},
   "source": [
    "Women make up 22% of the dataset; Black women make up 19% of their race group, white women make up 23% of their race group."
   ]
  },
  {
   "cell_type": "code",
   "execution_count": 8,
   "metadata": {},
   "outputs": [
    {
     "data": {
      "text/plain": [
       "0.6481069042316259"
      ]
     },
     "execution_count": 8,
     "metadata": {},
     "output_type": "execute_result"
    }
   ],
   "source": [
    "291/(13+87+56+291+2)"
   ]
  },
  {
   "cell_type": "markdown",
   "metadata": {},
   "source": [
    "## Entire Population Distribution"
   ]
  },
  {
   "cell_type": "code",
   "execution_count": 49,
   "metadata": {},
   "outputs": [
    {
     "data": {
      "text/plain": [
       "[Text(0.5, 0, 'Number of days in jail'),\n",
       " Text(0, 0.5, 'Count of Defendents'),\n",
       " Text(0.5, 1.0, 'Entire Population')]"
      ]
     },
     "execution_count": 49,
     "metadata": {},
     "output_type": "execute_result"
    },
    {
     "data": {
      "image/png": "[encoded data removed]",
      "text/plain": [
       "<Figure size 432x288 with 1 Axes>"
      ]
     },
     "metadata": {
      "needs_background": "light"
     },
     "output_type": "display_data"
    }
   ],
   "source": [
    "ax = sns.countplot(x='days', data=df)\n",
    "for ind, label in enumerate(ax.get_xticklabels()):\n",
    "    if ind % 2 == 0:  # every 10th label is kept\n",
    "        label.set_visible(True)\n",
    "    else:\n",
    "        label.set_visible(False)\n",
    "        \n",
    "ax.set(xlabel='Number of days in jail', ylabel='Count of Defendents',  title='Entire Population')\n"
   ]
  },
  {
   "cell_type": "markdown",
   "metadata": {},
   "source": [
    "Below, I'm plotting the distributions of different groups, just to see if anything stands out."
   ]
  },
  {
   "cell_type": "markdown",
   "metadata": {},
   "source": [
    "## Female Population Distribution"
   ]
  },
  {
   "cell_type": "code",
   "execution_count": 50,
   "metadata": {},
   "outputs": [],
   "source": [
    "dfFemale = df[df['gender']=='F']\n",
    "dfMale = df[df['gender']=='M']"
   ]
  },
  {
   "cell_type": "code",
   "execution_count": 51,
   "metadata": {},
   "outputs": [
    {
     "data": {
      "text/plain": [
       "[Text(0.5, 0, 'Number of days in jail'),\n",
       " Text(0, 0.5, 'Count of Defendents'),\n",
       " Text(0.5, 1.0, 'Female Population')]"
      ]
     },
     "execution_count": 51,
     "metadata": {},
     "output_type": "execute_result"
    },
    {
     "data": {
      "image/png": "[encoded data removed]",
      "text/plain": [
       "<Figure size 432x288 with 1 Axes>"
      ]
     },
     "metadata": {
      "needs_background": "light"
     },
     "output_type": "display_data"
    }
   ],
   "source": [
    "ax = sns.countplot(x='days', data=dfFemale)\n",
    "for ind, label in enumerate(ax.get_xticklabels()):\n",
    "    if ind % 2 == 0:  # every 10th label is kept\n",
    "        label.set_visible(True)\n",
    "    else:\n",
    "        label.set_visible(False)\n",
    "        \n",
    "ax.set(xlabel='Number of days in jail', ylabel='Count of Defendents', title='Female Population')\n"
   ]
  },
  {
   "cell_type": "markdown",
   "metadata": {},
   "source": [
    "## Male Population Distribution"
   ]
  },
  {
   "cell_type": "code",
   "execution_count": 52,
   "metadata": {},
   "outputs": [
    {
     "data": {
      "text/plain": [
       "[Text(0.5, 0, 'Number of days in jail'),\n",
       " Text(0, 0.5, 'Count of Defendents'),\n",
       " Text(0.5, 1.0, 'Male Population')]"
      ]
     },
     "execution_count": 52,
     "metadata": {},
     "output_type": "execute_result"
    },
    {
     "data": {
      "image/png": "[encoded data removed]",
      "text/plain": [
       "<Figure size 432x288 with 1 Axes>"
      ]
     },
     "metadata": {
      "needs_background": "light"
     },
     "output_type": "display_data"
    }
   ],
   "source": [
    "ax = sns.countplot(x='days', data=dfMale)\n",
    "for ind, label in enumerate(ax.get_xticklabels()):\n",
    "    if ind % 2 == 0:  # every 10th label is kept\n",
    "        label.set_visible(True)\n",
    "    else:\n",
    "        label.set_visible(False)\n",
    "        \n",
    "ax.set(xlabel='Number of days in jail', ylabel='Count of Defendents',  title='Male Population')\n"
   ]
  },
  {
   "cell_type": "code",
   "execution_count": 53,
   "metadata": {},
   "outputs": [
    {
     "data": {
      "image/png": "[encoded data removed]",
      "text/plain": [
       "<Figure size 432x288 with 1 Axes>"
      ]
     },
     "metadata": {
      "needs_background": "light"
     },
     "output_type": "display_data"
    }
   ],
   "source": [
    "ax = sns.boxplot(x=\"gender\", y=\"days\", data=df)"
   ]
  },
  {
   "cell_type": "markdown",
   "metadata": {},
   "source": [
    "## White Population Distribution"
   ]
  },
  {
   "cell_type": "code",
   "execution_count": 54,
   "metadata": {},
   "outputs": [
    {
     "data": {
      "text/plain": [
       "array(['W', 'B', 'U', 'I', 'A'], dtype=object)"
      ]
     },
     "execution_count": 54,
     "metadata": {},
     "output_type": "execute_result"
    }
   ],
   "source": [
    "df['race'].unique()"
   ]
  },
  {
   "cell_type": "code",
   "execution_count": 39,
   "metadata": {},
   "outputs": [],
   "source": [
    "dfWhite = df[df['race']=='W']\n",
    "dfBlack = df[df['race']=='B']"
   ]
  },
  {
   "cell_type": "code",
   "execution_count": 55,
   "metadata": {},
   "outputs": [
    {
     "data": {
      "text/plain": [
       "[Text(0.5, 0, 'Number of days in jail'), Text(0, 0.5, 'Count of Defendents')]"
      ]
     },
     "execution_count": 55,
     "metadata": {},
     "output_type": "execute_result"
    },
    {
     "data": {
      "image/png": "[encoded data removed]",
      "text/plain": [
       "<Figure size 432x288 with 1 Axes>"
      ]
     },
     "metadata": {
      "needs_background": "light"
     },
     "output_type": "display_data"
    }
   ],
   "source": [
    "ax = sns.countplot(x='days', data=dfWhite)\n",
    "for ind, label in enumerate(ax.get_xticklabels()):\n",
    "    if ind % 2 == 0:  # every 10th label is kept\n",
    "        label.set_visible(True)\n",
    "    else:\n",
    "        label.set_visible(False)\n",
    "        \n",
    "ax.set(xlabel='Number of days in jail', ylabel='Count of Defendents')\n"
   ]
  },
  {
   "cell_type": "markdown",
   "metadata": {},
   "source": [
    "## Black Population Distribution"
   ]
  },
  {
   "cell_type": "code",
   "execution_count": 56,
   "metadata": {},
   "outputs": [
    {
     "data": {
      "text/plain": [
       "[Text(0.5, 0, 'Number of days in jail'), Text(0, 0.5, 'Count of Defendents')]"
      ]
     },
     "execution_count": 56,
     "metadata": {},
     "output_type": "execute_result"
    },
    {
     "data": {
      "image/png": "[encoded data removed]",
      "text/plain": [
       "<Figure size 432x288 with 1 Axes>"
      ]
     },
     "metadata": {
      "needs_background": "light"
     },
     "output_type": "display_data"
    }
   ],
   "source": [
    "ax = sns.countplot(x='days', data=dfBlack)\n",
    "for ind, label in enumerate(ax.get_xticklabels()):\n",
    "    if ind % 2 == 0:  # every 10th label is kept\n",
    "        label.set_visible(True)\n",
    "    else:\n",
    "        label.set_visible(False)\n",
    "        \n",
    "ax.set(xlabel='Number of days in jail', ylabel='Count of Defendents')\n"
   ]
  },
  {
   "cell_type": "markdown",
   "metadata": {},
   "source": [
    "## Box and Whisker"
   ]
  },
  {
   "cell_type": "code",
   "execution_count": 57,
   "metadata": {},
   "outputs": [],
   "source": [
    "dfBW = df[(df['race']=='W') | (df['race']=='B')]\n",
    "dfIA = df[(df['race']=='I') | (df['race']=='A')]"
   ]
  },
  {
   "cell_type": "code",
   "execution_count": 58,
   "metadata": {},
   "outputs": [
    {
     "data": {
      "text/plain": [
       "<seaborn.axisgrid.FacetGrid at 0x7fa3904be950>"
      ]
     },
     "execution_count": 58,
     "metadata": {},
     "output_type": "execute_result"
    },
    {
     "data": {
      "image/png": "[encoded data removed]",
      "text/plain": [
       "<Figure size 432x216 with 2 Axes>"
      ]
     },
     "metadata": {
      "needs_background": "light"
     },
     "output_type": "display_data"
    }
   ],
   "source": [
    "g = sns.FacetGrid(dfBW, col=\"race\")\n",
    "g.map(sns.boxplot,'gender',  \"days\", order=[\"F\", \"M\"])"
   ]
  },
  {
   "cell_type": "code",
   "execution_count": 19,
   "metadata": {},
   "outputs": [
    {
     "data": {
      "text/html": [
       "<div>\n",
       "<style scoped>\n",
       "    .dataframe tbody tr th:only-of-type {\n",
       "        vertical-align: middle;\n",
       "    }\n",
       "\n",
       "    .dataframe tbody tr th {\n",
       "        vertical-align: top;\n",
       "    }\n",
       "\n",
       "    .dataframe thead th {\n",
       "        text-align: right;\n",
       "    }\n",
       "</style>\n",
       "<table border=\"1\" class=\"dataframe\">\n",
       "  <thead>\n",
       "    <tr style=\"text-align: right;\">\n",
       "      <th></th>\n",
       "      <th>defendant_id</th>\n",
       "      <th>name</th>\n",
       "      <th>gender</th>\n",
       "      <th>race</th>\n",
       "      <th>start_date</th>\n",
       "      <th>end_date</th>\n",
       "      <th>days</th>\n",
       "      <th>min_level</th>\n",
       "      <th>max_level</th>\n",
       "      <th>has_violation</th>\n",
       "      <th>violent</th>\n",
       "      <th>dwi</th>\n",
       "    </tr>\n",
       "  </thead>\n",
       "  <tbody>\n",
       "    <tr>\n",
       "      <th>321</th>\n",
       "      <td>33732</td>\n",
       "      <td>DEWOLFE, TIMOTHY PARK</td>\n",
       "      <td>M</td>\n",
       "      <td>A</td>\n",
       "      <td>2022-03-01</td>\n",
       "      <td>2022-03-01</td>\n",
       "      <td>1.0</td>\n",
       "      <td>1</td>\n",
       "      <td>2</td>\n",
       "      <td>0</td>\n",
       "      <td>None</td>\n",
       "      <td>None</td>\n",
       "    </tr>\n",
       "    <tr>\n",
       "      <th>323</th>\n",
       "      <td>20044</td>\n",
       "      <td>GLOSSER, CARMEN LICY</td>\n",
       "      <td>F</td>\n",
       "      <td>A</td>\n",
       "      <td>2022-01-29</td>\n",
       "      <td>2022-01-30</td>\n",
       "      <td>2.0</td>\n",
       "      <td>2</td>\n",
       "      <td>2</td>\n",
       "      <td>0</td>\n",
       "      <td>None</td>\n",
       "      <td>None</td>\n",
       "    </tr>\n",
       "    <tr>\n",
       "      <th>486</th>\n",
       "      <td>25914</td>\n",
       "      <td>MERZLAK, THOMAS JOHN</td>\n",
       "      <td>M</td>\n",
       "      <td>I</td>\n",
       "      <td>2022-02-11</td>\n",
       "      <td>2022-02-17</td>\n",
       "      <td>7.0</td>\n",
       "      <td>1</td>\n",
       "      <td>4</td>\n",
       "      <td>0</td>\n",
       "      <td>None</td>\n",
       "      <td>None</td>\n",
       "    </tr>\n",
       "    <tr>\n",
       "      <th>530</th>\n",
       "      <td>22546</td>\n",
       "      <td>YANG, PHIA</td>\n",
       "      <td>M</td>\n",
       "      <td>A</td>\n",
       "      <td>2022-02-04</td>\n",
       "      <td>2022-02-04</td>\n",
       "      <td>1.0</td>\n",
       "      <td>1</td>\n",
       "      <td>5</td>\n",
       "      <td>0</td>\n",
       "      <td>None</td>\n",
       "      <td>None</td>\n",
       "    </tr>\n",
       "    <tr>\n",
       "      <th>556</th>\n",
       "      <td>15498</td>\n",
       "      <td>HUSKEY, WILLIAM CHARLES</td>\n",
       "      <td>M</td>\n",
       "      <td>I</td>\n",
       "      <td>2022-01-20</td>\n",
       "      <td>2022-02-21</td>\n",
       "      <td>33.0</td>\n",
       "      <td>-1</td>\n",
       "      <td>-1</td>\n",
       "      <td>1</td>\n",
       "      <td>None</td>\n",
       "      <td>None</td>\n",
       "    </tr>\n",
       "  </tbody>\n",
       "</table>\n",
       "</div>"
      ],
      "text/plain": [
       "     defendant_id                     name gender race  start_date  \\\n",
       "321         33732    DEWOLFE, TIMOTHY PARK      M    A  2022-03-01   \n",
       "323         20044     GLOSSER, CARMEN LICY      F    A  2022-01-29   \n",
       "486         25914     MERZLAK, THOMAS JOHN      M    I  2022-02-11   \n",
       "530         22546               YANG, PHIA      M    A  2022-02-04   \n",
       "556         15498  HUSKEY, WILLIAM CHARLES      M    I  2022-01-20   \n",
       "\n",
       "       end_date  days  min_level  max_level  has_violation violent   dwi  \n",
       "321  2022-03-01   1.0          1          2              0    None  None  \n",
       "323  2022-01-30   2.0          2          2              0    None  None  \n",
       "486  2022-02-17   7.0          1          4              0    None  None  \n",
       "530  2022-02-04   1.0          1          5              0    None  None  \n",
       "556  2022-02-21  33.0         -1         -1              1    None  None  "
      ]
     },
     "execution_count": 19,
     "metadata": {},
     "output_type": "execute_result"
    }
   ],
   "source": [
    "dfIA.head()"
   ]
  },
  {
   "cell_type": "markdown",
   "metadata": {},
   "source": [
    "Only 3 people are not Black or white, so I'm unable make graphs of the other race groups."
   ]
  },
  {
   "cell_type": "markdown",
   "metadata": {},
   "source": [
    "## Other (in progress)"
   ]
  },
  {
   "cell_type": "code",
   "execution_count": 20,
   "metadata": {},
   "outputs": [
    {
     "data": {
      "text/html": [
       "<div>\n",
       "<style scoped>\n",
       "    .dataframe tbody tr th:only-of-type {\n",
       "        vertical-align: middle;\n",
       "    }\n",
       "\n",
       "    .dataframe tbody tr th {\n",
       "        vertical-align: top;\n",
       "    }\n",
       "\n",
       "    .dataframe thead th {\n",
       "        text-align: right;\n",
       "    }\n",
       "</style>\n",
       "<table border=\"1\" class=\"dataframe\">\n",
       "  <thead>\n",
       "    <tr style=\"text-align: right;\">\n",
       "      <th></th>\n",
       "      <th>defendant_id</th>\n",
       "      <th>name</th>\n",
       "      <th>gender</th>\n",
       "      <th>race</th>\n",
       "      <th>start_date</th>\n",
       "      <th>end_date</th>\n",
       "      <th>days</th>\n",
       "      <th>min_level</th>\n",
       "      <th>max_level</th>\n",
       "      <th>has_violation</th>\n",
       "      <th>violent</th>\n",
       "      <th>dwi</th>\n",
       "    </tr>\n",
       "  </thead>\n",
       "  <tbody>\n",
       "    <tr>\n",
       "      <th>0</th>\n",
       "      <td>31761</td>\n",
       "      <td>PRESTWOOD, ZACHARY TYLER</td>\n",
       "      <td>M</td>\n",
       "      <td>W</td>\n",
       "      <td>2022-02-24</td>\n",
       "      <td>2022-02-24</td>\n",
       "      <td>1.0</td>\n",
       "      <td>-3</td>\n",
       "      <td>4</td>\n",
       "      <td>0</td>\n",
       "      <td>None</td>\n",
       "      <td>None</td>\n",
       "    </tr>\n",
       "    <tr>\n",
       "      <th>1</th>\n",
       "      <td>26031</td>\n",
       "      <td>TRAVIS, CHRISTOPHER ADAM</td>\n",
       "      <td>M</td>\n",
       "      <td>W</td>\n",
       "      <td>2022-02-11</td>\n",
       "      <td>2022-02-15</td>\n",
       "      <td>5.0</td>\n",
       "      <td>-1</td>\n",
       "      <td>2</td>\n",
       "      <td>0</td>\n",
       "      <td>None</td>\n",
       "      <td>None</td>\n",
       "    </tr>\n",
       "    <tr>\n",
       "      <th>2</th>\n",
       "      <td>28218</td>\n",
       "      <td>PETERS, BRYSON JOSIAH</td>\n",
       "      <td>M</td>\n",
       "      <td>W</td>\n",
       "      <td>2022-02-16</td>\n",
       "      <td>2022-02-18</td>\n",
       "      <td>3.0</td>\n",
       "      <td>11</td>\n",
       "      <td>12</td>\n",
       "      <td>0</td>\n",
       "      <td>None</td>\n",
       "      <td>None</td>\n",
       "    </tr>\n",
       "    <tr>\n",
       "      <th>3</th>\n",
       "      <td>23591</td>\n",
       "      <td>HARDIN, JOSEPH CHRISTIAN</td>\n",
       "      <td>M</td>\n",
       "      <td>W</td>\n",
       "      <td>2022-02-06</td>\n",
       "      <td>2022-02-24</td>\n",
       "      <td>19.0</td>\n",
       "      <td>-1</td>\n",
       "      <td>-1</td>\n",
       "      <td>1</td>\n",
       "      <td>None</td>\n",
       "      <td>None</td>\n",
       "    </tr>\n",
       "    <tr>\n",
       "      <th>4</th>\n",
       "      <td>9808</td>\n",
       "      <td>LOOPER, REGINALD ALAN</td>\n",
       "      <td>M</td>\n",
       "      <td>B</td>\n",
       "      <td>2022-01-07</td>\n",
       "      <td>2022-01-24</td>\n",
       "      <td>18.0</td>\n",
       "      <td>-1</td>\n",
       "      <td>-1</td>\n",
       "      <td>1</td>\n",
       "      <td>None</td>\n",
       "      <td>None</td>\n",
       "    </tr>\n",
       "  </tbody>\n",
       "</table>\n",
       "</div>"
      ],
      "text/plain": [
       "   defendant_id                      name gender race  start_date    end_date  \\\n",
       "0         31761  PRESTWOOD, ZACHARY TYLER      M    W  2022-02-24  2022-02-24   \n",
       "1         26031  TRAVIS, CHRISTOPHER ADAM      M    W  2022-02-11  2022-02-15   \n",
       "2         28218     PETERS, BRYSON JOSIAH      M    W  2022-02-16  2022-02-18   \n",
       "3         23591  HARDIN, JOSEPH CHRISTIAN      M    W  2022-02-06  2022-02-24   \n",
       "4          9808     LOOPER, REGINALD ALAN      M    B  2022-01-07  2022-01-24   \n",
       "\n",
       "   days  min_level  max_level  has_violation violent   dwi  \n",
       "0   1.0         -3          4              0    None  None  \n",
       "1   5.0         -1          2              0    None  None  \n",
       "2   3.0         11         12              0    None  None  \n",
       "3  19.0         -1         -1              1    None  None  \n",
       "4  18.0         -1         -1              1    None  None  "
      ]
     },
     "execution_count": 20,
     "metadata": {},
     "output_type": "execute_result"
    }
   ],
   "source": [
    "df.head()"
   ]
  },
  {
   "cell_type": "code",
   "execution_count": 21,
   "metadata": {},
   "outputs": [
    {
     "data": {
      "text/plain": [
       "array([-3, -1, 11,  6,  1,  2,  5,  3,  4,  9])"
      ]
     },
     "execution_count": 21,
     "metadata": {},
     "output_type": "execute_result"
    }
   ],
   "source": [
    "df['min_level'].unique()"
   ]
  },
  {
   "cell_type": "code",
   "execution_count": 23,
   "metadata": {},
   "outputs": [
    {
     "data": {
      "text/plain": [
       "array([-1,  2, 12,  4,  6,  1,  5,  3,  7, -3,  8, 11,  9, 10])"
      ]
     },
     "execution_count": 23,
     "metadata": {},
     "output_type": "execute_result"
    }
   ],
   "source": [
    "df['max_level'].unique()"
   ]
  },
  {
   "cell_type": "code",
   "execution_count": 24,
   "metadata": {},
   "outputs": [
    {
     "data": {
      "text/plain": [
       "array([1, 0])"
      ]
     },
     "execution_count": 24,
     "metadata": {},
     "output_type": "execute_result"
    }
   ],
   "source": [
    "df['has_violation'].unique()"
   ]
  },
  {
   "cell_type": "code",
   "execution_count": 25,
   "metadata": {},
   "outputs": [
    {
     "data": {
      "text/html": [
       "<div>\n",
       "<style scoped>\n",
       "    .dataframe tbody tr th:only-of-type {\n",
       "        vertical-align: middle;\n",
       "    }\n",
       "\n",
       "    .dataframe tbody tr th {\n",
       "        vertical-align: top;\n",
       "    }\n",
       "\n",
       "    .dataframe thead th {\n",
       "        text-align: right;\n",
       "    }\n",
       "</style>\n",
       "<table border=\"1\" class=\"dataframe\">\n",
       "  <thead>\n",
       "    <tr style=\"text-align: right;\">\n",
       "      <th></th>\n",
       "      <th>defendant_id</th>\n",
       "      <th>name</th>\n",
       "      <th>gender</th>\n",
       "      <th>race</th>\n",
       "      <th>start_date</th>\n",
       "      <th>end_date</th>\n",
       "      <th>days</th>\n",
       "      <th>min_level</th>\n",
       "      <th>max_level</th>\n",
       "      <th>has_violation</th>\n",
       "      <th>violent</th>\n",
       "      <th>dwi</th>\n",
       "    </tr>\n",
       "  </thead>\n",
       "  <tbody>\n",
       "    <tr>\n",
       "      <th>0</th>\n",
       "      <td>12525</td>\n",
       "      <td>PHILLIPS, TIFFANY ANN</td>\n",
       "      <td>F</td>\n",
       "      <td>W</td>\n",
       "      <td>2022-01-13</td>\n",
       "      <td>2022-01-13</td>\n",
       "      <td>1</td>\n",
       "      <td>-1</td>\n",
       "      <td>-1</td>\n",
       "      <td>1</td>\n",
       "      <td>NaN</td>\n",
       "      <td>NaN</td>\n",
       "    </tr>\n",
       "    <tr>\n",
       "      <th>1</th>\n",
       "      <td>26031</td>\n",
       "      <td>TRAVIS, CHRISTOPHER ADAM</td>\n",
       "      <td>M</td>\n",
       "      <td>W</td>\n",
       "      <td>2022-02-11</td>\n",
       "      <td>2022-02-15</td>\n",
       "      <td>5</td>\n",
       "      <td>-1</td>\n",
       "      <td>2</td>\n",
       "      <td>0</td>\n",
       "      <td>NaN</td>\n",
       "      <td>NaN</td>\n",
       "    </tr>\n",
       "    <tr>\n",
       "      <th>2</th>\n",
       "      <td>28218</td>\n",
       "      <td>PETERS, BRYSON JOSIAH</td>\n",
       "      <td>M</td>\n",
       "      <td>W</td>\n",
       "      <td>2022-02-16</td>\n",
       "      <td>2022-02-18</td>\n",
       "      <td>3</td>\n",
       "      <td>11</td>\n",
       "      <td>12</td>\n",
       "      <td>0</td>\n",
       "      <td>NaN</td>\n",
       "      <td>NaN</td>\n",
       "    </tr>\n",
       "    <tr>\n",
       "      <th>3</th>\n",
       "      <td>19278</td>\n",
       "      <td>HODGES, RICHARD SCOTT</td>\n",
       "      <td>M</td>\n",
       "      <td>W</td>\n",
       "      <td>2022-01-28</td>\n",
       "      <td>2022-01-29</td>\n",
       "      <td>2</td>\n",
       "      <td>2</td>\n",
       "      <td>4</td>\n",
       "      <td>0</td>\n",
       "      <td>NaN</td>\n",
       "      <td>NaN</td>\n",
       "    </tr>\n",
       "    <tr>\n",
       "      <th>4</th>\n",
       "      <td>9808</td>\n",
       "      <td>LOOPER, REGINALD ALAN</td>\n",
       "      <td>M</td>\n",
       "      <td>B</td>\n",
       "      <td>2022-01-07</td>\n",
       "      <td>2022-01-24</td>\n",
       "      <td>18</td>\n",
       "      <td>-1</td>\n",
       "      <td>-1</td>\n",
       "      <td>1</td>\n",
       "      <td>NaN</td>\n",
       "      <td>NaN</td>\n",
       "    </tr>\n",
       "  </tbody>\n",
       "</table>\n",
       "</div>"
      ],
      "text/plain": [
       "   defendant_id                      name gender race  start_date    end_date  \\\n",
       "0         12525     PHILLIPS, TIFFANY ANN      F    W  2022-01-13  2022-01-13   \n",
       "1         26031  TRAVIS, CHRISTOPHER ADAM      M    W  2022-02-11  2022-02-15   \n",
       "2         28218     PETERS, BRYSON JOSIAH      M    W  2022-02-16  2022-02-18   \n",
       "3         19278     HODGES, RICHARD SCOTT      M    W  2022-01-28  2022-01-29   \n",
       "4          9808     LOOPER, REGINALD ALAN      M    B  2022-01-07  2022-01-24   \n",
       "\n",
       "   days  min_level  max_level  has_violation  violent  dwi  \n",
       "0     1         -1         -1              1      NaN  NaN  \n",
       "1     5         -1          2              0      NaN  NaN  \n",
       "2     3         11         12              0      NaN  NaN  \n",
       "3     2          2          4              0      NaN  NaN  \n",
       "4    18         -1         -1              1      NaN  NaN  "
      ]
     },
     "execution_count": 25,
     "metadata": {},
     "output_type": "execute_result"
    }
   ],
   "source": [
    "df.head()"
   ]
  },
  {
   "cell_type": "code",
   "execution_count": 22,
   "metadata": {},
   "outputs": [
    {
     "data": {
      "text/html": [
       "<div>\n",
       "<style scoped>\n",
       "    .dataframe tbody tr th:only-of-type {\n",
       "        vertical-align: middle;\n",
       "    }\n",
       "\n",
       "    .dataframe tbody tr th {\n",
       "        vertical-align: top;\n",
       "    }\n",
       "\n",
       "    .dataframe thead th {\n",
       "        text-align: right;\n",
       "    }\n",
       "</style>\n",
       "<table border=\"1\" class=\"dataframe\">\n",
       "  <thead>\n",
       "    <tr style=\"text-align: right;\">\n",
       "      <th></th>\n",
       "      <th>defendant_id</th>\n",
       "      <th>name</th>\n",
       "      <th>gender</th>\n",
       "      <th>race</th>\n",
       "      <th>start_date</th>\n",
       "      <th>end_date</th>\n",
       "      <th>days</th>\n",
       "      <th>min_level</th>\n",
       "      <th>max_level</th>\n",
       "      <th>has_violation</th>\n",
       "      <th>violent</th>\n",
       "      <th>dwi</th>\n",
       "    </tr>\n",
       "  </thead>\n",
       "  <tbody>\n",
       "    <tr>\n",
       "      <th>0</th>\n",
       "      <td>31761</td>\n",
       "      <td>PRESTWOOD, ZACHARY TYLER</td>\n",
       "      <td>M</td>\n",
       "      <td>W</td>\n",
       "      <td>2022-02-24</td>\n",
       "      <td>2022-02-24</td>\n",
       "      <td>1.0</td>\n",
       "      <td>-3</td>\n",
       "      <td>4</td>\n",
       "      <td>0</td>\n",
       "      <td>None</td>\n",
       "      <td>None</td>\n",
       "    </tr>\n",
       "    <tr>\n",
       "      <th>1</th>\n",
       "      <td>26031</td>\n",
       "      <td>TRAVIS, CHRISTOPHER ADAM</td>\n",
       "      <td>M</td>\n",
       "      <td>W</td>\n",
       "      <td>2022-02-11</td>\n",
       "      <td>2022-02-15</td>\n",
       "      <td>5.0</td>\n",
       "      <td>-1</td>\n",
       "      <td>2</td>\n",
       "      <td>0</td>\n",
       "      <td>None</td>\n",
       "      <td>None</td>\n",
       "    </tr>\n",
       "    <tr>\n",
       "      <th>2</th>\n",
       "      <td>28218</td>\n",
       "      <td>PETERS, BRYSON JOSIAH</td>\n",
       "      <td>M</td>\n",
       "      <td>W</td>\n",
       "      <td>2022-02-16</td>\n",
       "      <td>2022-02-18</td>\n",
       "      <td>3.0</td>\n",
       "      <td>11</td>\n",
       "      <td>12</td>\n",
       "      <td>0</td>\n",
       "      <td>None</td>\n",
       "      <td>None</td>\n",
       "    </tr>\n",
       "    <tr>\n",
       "      <th>3</th>\n",
       "      <td>23591</td>\n",
       "      <td>HARDIN, JOSEPH CHRISTIAN</td>\n",
       "      <td>M</td>\n",
       "      <td>W</td>\n",
       "      <td>2022-02-06</td>\n",
       "      <td>2022-02-24</td>\n",
       "      <td>19.0</td>\n",
       "      <td>-1</td>\n",
       "      <td>-1</td>\n",
       "      <td>1</td>\n",
       "      <td>None</td>\n",
       "      <td>None</td>\n",
       "    </tr>\n",
       "    <tr>\n",
       "      <th>4</th>\n",
       "      <td>9808</td>\n",
       "      <td>LOOPER, REGINALD ALAN</td>\n",
       "      <td>M</td>\n",
       "      <td>B</td>\n",
       "      <td>2022-01-07</td>\n",
       "      <td>2022-01-24</td>\n",
       "      <td>18.0</td>\n",
       "      <td>-1</td>\n",
       "      <td>-1</td>\n",
       "      <td>1</td>\n",
       "      <td>None</td>\n",
       "      <td>None</td>\n",
       "    </tr>\n",
       "  </tbody>\n",
       "</table>\n",
       "</div>"
      ],
      "text/plain": [
       "   defendant_id                      name gender race  start_date    end_date  \\\n",
       "0         31761  PRESTWOOD, ZACHARY TYLER      M    W  2022-02-24  2022-02-24   \n",
       "1         26031  TRAVIS, CHRISTOPHER ADAM      M    W  2022-02-11  2022-02-15   \n",
       "2         28218     PETERS, BRYSON JOSIAH      M    W  2022-02-16  2022-02-18   \n",
       "3         23591  HARDIN, JOSEPH CHRISTIAN      M    W  2022-02-06  2022-02-24   \n",
       "4          9808     LOOPER, REGINALD ALAN      M    B  2022-01-07  2022-01-24   \n",
       "\n",
       "   days  min_level  max_level  has_violation violent   dwi  \n",
       "0   1.0         -3          4              0    None  None  \n",
       "1   5.0         -1          2              0    None  None  \n",
       "2   3.0         11         12              0    None  None  \n",
       "3  19.0         -1         -1              1    None  None  \n",
       "4  18.0         -1         -1              1    None  None  "
      ]
     },
     "execution_count": 22,
     "metadata": {},
     "output_type": "execute_result"
    }
   ],
   "source": [
    "dfExploded = df.explode(['race', 'gender'])\n",
    "dfExploded.head()"
   ]
  },
  {
   "cell_type": "markdown",
   "metadata": {},
   "source": [
    "I was going to look into correlations between race/gender/max_level/has_violation, but I need to go read up on some stats first"
   ]
  },
  {
   "cell_type": "markdown",
   "metadata": {},
   "source": [
    "## White males"
   ]
  },
  {
   "cell_type": "code",
   "execution_count": 23,
   "metadata": {},
   "outputs": [],
   "source": [
    "dfWM = df[(df['race']=='W') & (df['gender']=='M')]"
   ]
  },
  {
   "cell_type": "code",
   "execution_count": 24,
   "metadata": {},
   "outputs": [
    {
     "data": {
      "text/html": [
       "<div>\n",
       "<style scoped>\n",
       "    .dataframe tbody tr th:only-of-type {\n",
       "        vertical-align: middle;\n",
       "    }\n",
       "\n",
       "    .dataframe tbody tr th {\n",
       "        vertical-align: top;\n",
       "    }\n",
       "\n",
       "    .dataframe thead th {\n",
       "        text-align: right;\n",
       "    }\n",
       "</style>\n",
       "<table border=\"1\" class=\"dataframe\">\n",
       "  <thead>\n",
       "    <tr style=\"text-align: right;\">\n",
       "      <th></th>\n",
       "      <th>defendant_id</th>\n",
       "      <th>name</th>\n",
       "      <th>gender</th>\n",
       "      <th>race</th>\n",
       "      <th>start_date</th>\n",
       "      <th>end_date</th>\n",
       "      <th>days</th>\n",
       "      <th>min_level</th>\n",
       "      <th>max_level</th>\n",
       "      <th>has_violation</th>\n",
       "      <th>violent</th>\n",
       "      <th>dwi</th>\n",
       "    </tr>\n",
       "  </thead>\n",
       "  <tbody>\n",
       "    <tr>\n",
       "      <th>0</th>\n",
       "      <td>31761</td>\n",
       "      <td>PRESTWOOD, ZACHARY TYLER</td>\n",
       "      <td>M</td>\n",
       "      <td>W</td>\n",
       "      <td>2022-02-24</td>\n",
       "      <td>2022-02-24</td>\n",
       "      <td>1.0</td>\n",
       "      <td>-3</td>\n",
       "      <td>4</td>\n",
       "      <td>0</td>\n",
       "      <td>None</td>\n",
       "      <td>None</td>\n",
       "    </tr>\n",
       "    <tr>\n",
       "      <th>1</th>\n",
       "      <td>26031</td>\n",
       "      <td>TRAVIS, CHRISTOPHER ADAM</td>\n",
       "      <td>M</td>\n",
       "      <td>W</td>\n",
       "      <td>2022-02-11</td>\n",
       "      <td>2022-02-15</td>\n",
       "      <td>5.0</td>\n",
       "      <td>-1</td>\n",
       "      <td>2</td>\n",
       "      <td>0</td>\n",
       "      <td>None</td>\n",
       "      <td>None</td>\n",
       "    </tr>\n",
       "    <tr>\n",
       "      <th>2</th>\n",
       "      <td>28218</td>\n",
       "      <td>PETERS, BRYSON JOSIAH</td>\n",
       "      <td>M</td>\n",
       "      <td>W</td>\n",
       "      <td>2022-02-16</td>\n",
       "      <td>2022-02-18</td>\n",
       "      <td>3.0</td>\n",
       "      <td>11</td>\n",
       "      <td>12</td>\n",
       "      <td>0</td>\n",
       "      <td>None</td>\n",
       "      <td>None</td>\n",
       "    </tr>\n",
       "    <tr>\n",
       "      <th>3</th>\n",
       "      <td>23591</td>\n",
       "      <td>HARDIN, JOSEPH CHRISTIAN</td>\n",
       "      <td>M</td>\n",
       "      <td>W</td>\n",
       "      <td>2022-02-06</td>\n",
       "      <td>2022-02-24</td>\n",
       "      <td>19.0</td>\n",
       "      <td>-1</td>\n",
       "      <td>-1</td>\n",
       "      <td>1</td>\n",
       "      <td>None</td>\n",
       "      <td>None</td>\n",
       "    </tr>\n",
       "    <tr>\n",
       "      <th>5</th>\n",
       "      <td>11805</td>\n",
       "      <td>BURRELL, BRYON MATTHEW</td>\n",
       "      <td>M</td>\n",
       "      <td>W</td>\n",
       "      <td>2022-01-12</td>\n",
       "      <td>2022-03-01</td>\n",
       "      <td>49.0</td>\n",
       "      <td>-1</td>\n",
       "      <td>-1</td>\n",
       "      <td>0</td>\n",
       "      <td>None</td>\n",
       "      <td>None</td>\n",
       "    </tr>\n",
       "  </tbody>\n",
       "</table>\n",
       "</div>"
      ],
      "text/plain": [
       "   defendant_id                      name gender race  start_date    end_date  \\\n",
       "0         31761  PRESTWOOD, ZACHARY TYLER      M    W  2022-02-24  2022-02-24   \n",
       "1         26031  TRAVIS, CHRISTOPHER ADAM      M    W  2022-02-11  2022-02-15   \n",
       "2         28218     PETERS, BRYSON JOSIAH      M    W  2022-02-16  2022-02-18   \n",
       "3         23591  HARDIN, JOSEPH CHRISTIAN      M    W  2022-02-06  2022-02-24   \n",
       "5         11805    BURRELL, BRYON MATTHEW      M    W  2022-01-12  2022-03-01   \n",
       "\n",
       "   days  min_level  max_level  has_violation violent   dwi  \n",
       "0   1.0         -3          4              0    None  None  \n",
       "1   5.0         -1          2              0    None  None  \n",
       "2   3.0         11         12              0    None  None  \n",
       "3  19.0         -1         -1              1    None  None  \n",
       "5  49.0         -1         -1              0    None  None  "
      ]
     },
     "execution_count": 24,
     "metadata": {},
     "output_type": "execute_result"
    }
   ],
   "source": [
    "dfWM.head()"
   ]
  },
  {
   "cell_type": "markdown",
   "metadata": {},
   "source": [
    "idea- take a look at level/has_violation distributions"
   ]
  },
  {
   "cell_type": "code",
   "execution_count": null,
   "metadata": {},
   "outputs": [],
   "source": []
  }
 ],
 "metadata": {
  "kernelspec": {
   "display_name": "Python 3 (ipykernel)",
   "language": "python",
   "name": "python3"
  },
  "language_info": {
   "codemirror_mode": {
    "name": "ipython",
    "version": 3
   },
   "file_extension": ".py",
   "mimetype": "text/x-python",
   "name": "python",
   "nbconvert_exporter": "python",
   "pygments_lexer": "ipython3",
   "version": "3.10.0"
  }
 },
 "nbformat": 4,
 "nbformat_minor": 2
}
