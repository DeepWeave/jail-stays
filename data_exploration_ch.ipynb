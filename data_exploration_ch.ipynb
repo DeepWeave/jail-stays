{
 "cells": [
  {
   "cell_type": "code",
   "execution_count": 1,
   "metadata": {},
   "outputs": [
    {
     "name": "stderr",
     "output_type": "stream",
     "text": [
      "/Users/cameronhenshaw/opt/anaconda3/lib/python3.7/site-packages/statsmodels/tools/_testing.py:19: FutureWarning: pandas.util.testing is deprecated. Use the functions in the public API at pandas.testing instead.\n",
      "  import pandas.util.testing as tm\n"
     ]
    }
   ],
   "source": [
    "import pandas as pd\n",
    "import numpy as np\n",
    "import seaborn as sns\n",
    "import matplotlib.pyplot as mp"
   ]
  },
  {
   "cell_type": "code",
   "execution_count": 36,
   "metadata": {},
   "outputs": [],
   "source": [
    "df = pd.read_csv('2022-02-20-stays_summary.csv')"
   ]
  },
  {
   "cell_type": "code",
   "execution_count": 3,
   "metadata": {
    "scrolled": true
   },
   "outputs": [
    {
     "data": {
      "text/html": [
       "<div>\n",
       "<style scoped>\n",
       "    .dataframe tbody tr th:only-of-type {\n",
       "        vertical-align: middle;\n",
       "    }\n",
       "\n",
       "    .dataframe tbody tr th {\n",
       "        vertical-align: top;\n",
       "    }\n",
       "\n",
       "    .dataframe thead th {\n",
       "        text-align: right;\n",
       "    }\n",
       "</style>\n",
       "<table border=\"1\" class=\"dataframe\">\n",
       "  <thead>\n",
       "    <tr style=\"text-align: right;\">\n",
       "      <th></th>\n",
       "      <th>defendant_id</th>\n",
       "      <th>name</th>\n",
       "      <th>gender</th>\n",
       "      <th>race</th>\n",
       "      <th>start_date</th>\n",
       "      <th>end_date</th>\n",
       "      <th>days</th>\n",
       "      <th>min_level</th>\n",
       "      <th>max_level</th>\n",
       "      <th>has_violation</th>\n",
       "      <th>violent</th>\n",
       "      <th>dwi</th>\n",
       "    </tr>\n",
       "  </thead>\n",
       "  <tbody>\n",
       "    <tr>\n",
       "      <th>0</th>\n",
       "      <td>12525</td>\n",
       "      <td>PHILLIPS, TIFFANY ANN</td>\n",
       "      <td>F</td>\n",
       "      <td>W</td>\n",
       "      <td>2022-01-13</td>\n",
       "      <td>2022-01-13</td>\n",
       "      <td>1</td>\n",
       "      <td>-1</td>\n",
       "      <td>-1</td>\n",
       "      <td>1</td>\n",
       "      <td>NaN</td>\n",
       "      <td>NaN</td>\n",
       "    </tr>\n",
       "    <tr>\n",
       "      <th>1</th>\n",
       "      <td>26031</td>\n",
       "      <td>TRAVIS, CHRISTOPHER ADAM</td>\n",
       "      <td>M</td>\n",
       "      <td>W</td>\n",
       "      <td>2022-02-11</td>\n",
       "      <td>2022-02-15</td>\n",
       "      <td>5</td>\n",
       "      <td>-1</td>\n",
       "      <td>2</td>\n",
       "      <td>0</td>\n",
       "      <td>NaN</td>\n",
       "      <td>NaN</td>\n",
       "    </tr>\n",
       "    <tr>\n",
       "      <th>2</th>\n",
       "      <td>28218</td>\n",
       "      <td>PETERS, BRYSON JOSIAH</td>\n",
       "      <td>M</td>\n",
       "      <td>W</td>\n",
       "      <td>2022-02-16</td>\n",
       "      <td>2022-02-18</td>\n",
       "      <td>3</td>\n",
       "      <td>11</td>\n",
       "      <td>12</td>\n",
       "      <td>0</td>\n",
       "      <td>NaN</td>\n",
       "      <td>NaN</td>\n",
       "    </tr>\n",
       "    <tr>\n",
       "      <th>3</th>\n",
       "      <td>19278</td>\n",
       "      <td>HODGES, RICHARD SCOTT</td>\n",
       "      <td>M</td>\n",
       "      <td>W</td>\n",
       "      <td>2022-01-28</td>\n",
       "      <td>2022-01-29</td>\n",
       "      <td>2</td>\n",
       "      <td>2</td>\n",
       "      <td>4</td>\n",
       "      <td>0</td>\n",
       "      <td>NaN</td>\n",
       "      <td>NaN</td>\n",
       "    </tr>\n",
       "    <tr>\n",
       "      <th>4</th>\n",
       "      <td>9808</td>\n",
       "      <td>LOOPER, REGINALD ALAN</td>\n",
       "      <td>M</td>\n",
       "      <td>B</td>\n",
       "      <td>2022-01-07</td>\n",
       "      <td>2022-01-24</td>\n",
       "      <td>18</td>\n",
       "      <td>-1</td>\n",
       "      <td>-1</td>\n",
       "      <td>1</td>\n",
       "      <td>NaN</td>\n",
       "      <td>NaN</td>\n",
       "    </tr>\n",
       "  </tbody>\n",
       "</table>\n",
       "</div>"
      ],
      "text/plain": [
       "   defendant_id                      name gender race  start_date    end_date  \\\n",
       "0         12525     PHILLIPS, TIFFANY ANN      F    W  2022-01-13  2022-01-13   \n",
       "1         26031  TRAVIS, CHRISTOPHER ADAM      M    W  2022-02-11  2022-02-15   \n",
       "2         28218     PETERS, BRYSON JOSIAH      M    W  2022-02-16  2022-02-18   \n",
       "3         19278     HODGES, RICHARD SCOTT      M    W  2022-01-28  2022-01-29   \n",
       "4          9808     LOOPER, REGINALD ALAN      M    B  2022-01-07  2022-01-24   \n",
       "\n",
       "   days  min_level  max_level  has_violation  violent  dwi  \n",
       "0     1         -1         -1              1      NaN  NaN  \n",
       "1     5         -1          2              0      NaN  NaN  \n",
       "2     3         11         12              0      NaN  NaN  \n",
       "3     2          2          4              0      NaN  NaN  \n",
       "4    18         -1         -1              1      NaN  NaN  "
      ]
     },
     "execution_count": 3,
     "metadata": {},
     "output_type": "execute_result"
    }
   ],
   "source": [
    "df.head()"
   ]
  },
  {
   "cell_type": "code",
   "execution_count": 43,
   "metadata": {},
   "outputs": [
    {
     "data": {
      "text/plain": [
       "race  gender\n",
       "A     F           1\n",
       "      M           1\n",
       "B     F          13\n",
       "      M          56\n",
       "I     M           1\n",
       "W     F          87\n",
       "      M         291\n",
       "dtype: int64"
      ]
     },
     "execution_count": 43,
     "metadata": {},
     "output_type": "execute_result"
    }
   ],
   "source": [
    "df.groupby(['race', 'gender']).size()"
   ]
  },
  {
   "cell_type": "code",
   "execution_count": 46,
   "metadata": {},
   "outputs": [
    {
     "data": {
      "text/plain": [
       "0.22494432071269488"
      ]
     },
     "execution_count": 46,
     "metadata": {},
     "output_type": "execute_result"
    }
   ],
   "source": [
    "(13+87+1)/(13+87+56+291+2)"
   ]
  },
  {
   "cell_type": "code",
   "execution_count": 44,
   "metadata": {},
   "outputs": [
    {
     "data": {
      "text/plain": [
       "0.18840579710144928"
      ]
     },
     "execution_count": 44,
     "metadata": {},
     "output_type": "execute_result"
    }
   ],
   "source": [
    "13/(56+13)"
   ]
  },
  {
   "cell_type": "code",
   "execution_count": 45,
   "metadata": {},
   "outputs": [
    {
     "data": {
      "text/plain": [
       "0.23015873015873015"
      ]
     },
     "execution_count": 45,
     "metadata": {},
     "output_type": "execute_result"
    }
   ],
   "source": [
    "87/(87+291)"
   ]
  },
  {
   "cell_type": "markdown",
   "metadata": {},
   "source": [
    "Women make up 22% of the dataset; Black women make up 19% of their race group, white women make up 23% of their race group."
   ]
  },
  {
   "cell_type": "code",
   "execution_count": 47,
   "metadata": {},
   "outputs": [
    {
     "data": {
      "text/plain": [
       "0.6481069042316259"
      ]
     },
     "execution_count": 47,
     "metadata": {},
     "output_type": "execute_result"
    }
   ],
   "source": [
    "291/(13+87+56+291+2)"
   ]
  },
  {
   "cell_type": "markdown",
   "metadata": {},
   "source": [
    "## Entire Population Distribution"
   ]
  },
  {
   "cell_type": "code",
   "execution_count": 4,
   "metadata": {},
   "outputs": [
    {
     "data": {
      "text/plain": [
       "[Text(0, 0.5, 'Count of Defendents'),\n",
       " Text(0.5, 0, 'Number of days in jail'),\n",
       " Text(0.5, 1.0, 'Entire Population')]"
      ]
     },
     "execution_count": 4,
     "metadata": {},
     "output_type": "execute_result"
    },
    {
     "data": {
      "image/png": "[encoded data removed]",
      "text/plain": [
       "<Figure size 432x288 with 1 Axes>"
      ]
     },
     "metadata": {
      "needs_background": "light"
     },
     "output_type": "display_data"
    }
   ],
   "source": [
    "ax = sns.countplot(x='days', data=df)\n",
    "for ind, label in enumerate(ax.get_xticklabels()):\n",
    "    if ind % 2 == 0:  # every 10th label is kept\n",
    "        label.set_visible(True)\n",
    "    else:\n",
    "        label.set_visible(False)\n",
    "        \n",
    "ax.set(xlabel='Number of days in jail', ylabel='Count of Defendents',  title='Entire Population')\n"
   ]
  },
  {
   "cell_type": "markdown",
   "metadata": {},
   "source": [
    "Below, I'm plotting the distributions of different groups, just to see if anything stands out."
   ]
  },
  {
   "cell_type": "markdown",
   "metadata": {},
   "source": [
    "## Female Population Distribution"
   ]
  },
  {
   "cell_type": "code",
   "execution_count": 5,
   "metadata": {},
   "outputs": [],
   "source": [
    "dfFemale = df[df['gender']=='F']\n",
    "dfMale = df[df['gender']=='M']"
   ]
  },
  {
   "cell_type": "code",
   "execution_count": 6,
   "metadata": {},
   "outputs": [
    {
     "data": {
      "text/plain": [
       "[Text(0, 0.5, 'Count of Defendents'),\n",
       " Text(0.5, 0, 'Number of days in jail'),\n",
       " Text(0.5, 1.0, 'Female Population')]"
      ]
     },
     "execution_count": 6,
     "metadata": {},
     "output_type": "execute_result"
    },
    {
     "data": {
      "image/png": "[encoded data removed]",
      "text/plain": [
       "<Figure size 432x288 with 1 Axes>"
      ]
     },
     "metadata": {
      "needs_background": "light"
     },
     "output_type": "display_data"
    }
   ],
   "source": [
    "ax = sns.countplot(x='days', data=dfFemale)\n",
    "for ind, label in enumerate(ax.get_xticklabels()):\n",
    "    if ind % 2 == 0:  # every 10th label is kept\n",
    "        label.set_visible(True)\n",
    "    else:\n",
    "        label.set_visible(False)\n",
    "        \n",
    "ax.set(xlabel='Number of days in jail', ylabel='Count of Defendents', title='Female Population')\n"
   ]
  },
  {
   "cell_type": "markdown",
   "metadata": {},
   "source": [
    "## Male Population Distribution"
   ]
  },
  {
   "cell_type": "code",
   "execution_count": 7,
   "metadata": {},
   "outputs": [
    {
     "data": {
      "text/plain": [
       "[Text(0, 0.5, 'Count of Defendents'),\n",
       " Text(0.5, 0, 'Number of days in jail'),\n",
       " Text(0.5, 1.0, 'Male Population')]"
      ]
     },
     "execution_count": 7,
     "metadata": {},
     "output_type": "execute_result"
    },
    {
     "data": {
      "image/png": "[encoded data removed]",
      "text/plain": [
       "<Figure size 432x288 with 1 Axes>"
      ]
     },
     "metadata": {
      "needs_background": "light"
     },
     "output_type": "display_data"
    }
   ],
   "source": [
    "ax = sns.countplot(x='days', data=dfMale)\n",
    "for ind, label in enumerate(ax.get_xticklabels()):\n",
    "    if ind % 2 == 0:  # every 10th label is kept\n",
    "        label.set_visible(True)\n",
    "    else:\n",
    "        label.set_visible(False)\n",
    "        \n",
    "ax.set(xlabel='Number of days in jail', ylabel='Count of Defendents',  title='Male Population')\n"
   ]
  },
  {
   "cell_type": "code",
   "execution_count": 8,
   "metadata": {},
   "outputs": [
    {
     "data": {
      "image/png": "[encoded data removed]",
      "text/plain": [
       "<Figure size 432x288 with 1 Axes>"
      ]
     },
     "metadata": {
      "needs_background": "light"
     },
     "output_type": "display_data"
    }
   ],
   "source": [
    "ax = sns.boxplot(x=\"gender\", y=\"days\", data=df)"
   ]
  },
  {
   "cell_type": "markdown",
   "metadata": {},
   "source": [
    "## White Population Distribution"
   ]
  },
  {
   "cell_type": "code",
   "execution_count": 9,
   "metadata": {},
   "outputs": [
    {
     "data": {
      "text/plain": [
       "array(['W', 'B', 'A', 'I'], dtype=object)"
      ]
     },
     "execution_count": 9,
     "metadata": {},
     "output_type": "execute_result"
    }
   ],
   "source": [
    "df['race'].unique()"
   ]
  },
  {
   "cell_type": "code",
   "execution_count": 10,
   "metadata": {},
   "outputs": [],
   "source": [
    "dfWhite = df[df['race']=='W']\n",
    "dfBlack = df[df['race']=='B']"
   ]
  },
  {
   "cell_type": "code",
   "execution_count": 11,
   "metadata": {},
   "outputs": [
    {
     "data": {
      "text/plain": [
       "[Text(0, 0.5, 'Count of Defendents'), Text(0.5, 0, 'Number of days in jail')]"
      ]
     },
     "execution_count": 11,
     "metadata": {},
     "output_type": "execute_result"
    },
    {
     "data": {
      "image/png": "[encoded data removed]",
      "text/plain": [
       "<Figure size 432x288 with 1 Axes>"
      ]
     },
     "metadata": {
      "needs_background": "light"
     },
     "output_type": "display_data"
    }
   ],
   "source": [
    "ax = sns.countplot(x='days', data=dfWhite)\n",
    "for ind, label in enumerate(ax.get_xticklabels()):\n",
    "    if ind % 2 == 0:  # every 10th label is kept\n",
    "        label.set_visible(True)\n",
    "    else:\n",
    "        label.set_visible(False)\n",
    "        \n",
    "ax.set(xlabel='Number of days in jail', ylabel='Count of Defendents')\n"
   ]
  },
  {
   "cell_type": "markdown",
   "metadata": {},
   "source": [
    "## Black Population Distribution"
   ]
  },
  {
   "cell_type": "code",
   "execution_count": 12,
   "metadata": {},
   "outputs": [
    {
     "data": {
      "text/plain": [
       "[Text(0, 0.5, 'Count of Defendents'), Text(0.5, 0, 'Number of days in jail')]"
      ]
     },
     "execution_count": 12,
     "metadata": {},
     "output_type": "execute_result"
    },
    {
     "data": {
      "image/png": "[encoded data removed]",
      "text/plain": [
       "<Figure size 432x288 with 1 Axes>"
      ]
     },
     "metadata": {
      "needs_background": "light"
     },
     "output_type": "display_data"
    }
   ],
   "source": [
    "ax = sns.countplot(x='days', data=dfBlack)\n",
    "for ind, label in enumerate(ax.get_xticklabels()):\n",
    "    if ind % 2 == 0:  # every 10th label is kept\n",
    "        label.set_visible(True)\n",
    "    else:\n",
    "        label.set_visible(False)\n",
    "        \n",
    "ax.set(xlabel='Number of days in jail', ylabel='Count of Defendents')\n"
   ]
  },
  {
   "cell_type": "markdown",
   "metadata": {},
   "source": [
    "## Box and Whisker"
   ]
  },
  {
   "cell_type": "code",
   "execution_count": 13,
   "metadata": {},
   "outputs": [],
   "source": [
    "dfBW = df[(df['race']=='W') | (df['race']=='B')]\n",
    "dfIA = df[(df['race']=='I') | (df['race']=='A')]"
   ]
  },
  {
   "cell_type": "code",
   "execution_count": 14,
   "metadata": {},
   "outputs": [
    {
     "data": {
      "text/plain": [
       "<seaborn.axisgrid.FacetGrid at 0x7fb14c0c0210>"
      ]
     },
     "execution_count": 14,
     "metadata": {},
     "output_type": "execute_result"
    },
    {
     "data": {
      "image/png": "[encoded data removed]",
      "text/plain": [
       "<Figure size 432x216 with 2 Axes>"
      ]
     },
     "metadata": {
      "needs_background": "light"
     },
     "output_type": "display_data"
    }
   ],
   "source": [
    "g = sns.FacetGrid(dfBW, col=\"race\")\n",
    "g.map(sns.boxplot,'gender',  \"days\", order=[\"F\", \"M\"])"
   ]
  },
  {
   "cell_type": "code",
   "execution_count": 15,
   "metadata": {},
   "outputs": [
    {
     "data": {
      "text/html": [
       "<div>\n",
       "<style scoped>\n",
       "    .dataframe tbody tr th:only-of-type {\n",
       "        vertical-align: middle;\n",
       "    }\n",
       "\n",
       "    .dataframe tbody tr th {\n",
       "        vertical-align: top;\n",
       "    }\n",
       "\n",
       "    .dataframe thead th {\n",
       "        text-align: right;\n",
       "    }\n",
       "</style>\n",
       "<table border=\"1\" class=\"dataframe\">\n",
       "  <thead>\n",
       "    <tr style=\"text-align: right;\">\n",
       "      <th></th>\n",
       "      <th>defendant_id</th>\n",
       "      <th>name</th>\n",
       "      <th>gender</th>\n",
       "      <th>race</th>\n",
       "      <th>start_date</th>\n",
       "      <th>end_date</th>\n",
       "      <th>days</th>\n",
       "      <th>min_level</th>\n",
       "      <th>max_level</th>\n",
       "      <th>has_violation</th>\n",
       "      <th>violent</th>\n",
       "      <th>dwi</th>\n",
       "    </tr>\n",
       "  </thead>\n",
       "  <tbody>\n",
       "    <tr>\n",
       "      <th>36</th>\n",
       "      <td>20044</td>\n",
       "      <td>GLOSSER, CARMEN LICY</td>\n",
       "      <td>F</td>\n",
       "      <td>A</td>\n",
       "      <td>2022-01-29</td>\n",
       "      <td>2022-01-30</td>\n",
       "      <td>2</td>\n",
       "      <td>2</td>\n",
       "      <td>2</td>\n",
       "      <td>0</td>\n",
       "      <td>NaN</td>\n",
       "      <td>NaN</td>\n",
       "    </tr>\n",
       "    <tr>\n",
       "      <th>293</th>\n",
       "      <td>25914</td>\n",
       "      <td>MERZLAK, THOMAS JOHN</td>\n",
       "      <td>M</td>\n",
       "      <td>I</td>\n",
       "      <td>2022-02-11</td>\n",
       "      <td>2022-02-17</td>\n",
       "      <td>7</td>\n",
       "      <td>1</td>\n",
       "      <td>4</td>\n",
       "      <td>0</td>\n",
       "      <td>NaN</td>\n",
       "      <td>NaN</td>\n",
       "    </tr>\n",
       "    <tr>\n",
       "      <th>363</th>\n",
       "      <td>22546</td>\n",
       "      <td>YANG, PHIA</td>\n",
       "      <td>M</td>\n",
       "      <td>A</td>\n",
       "      <td>2022-02-04</td>\n",
       "      <td>2022-02-04</td>\n",
       "      <td>1</td>\n",
       "      <td>1</td>\n",
       "      <td>5</td>\n",
       "      <td>0</td>\n",
       "      <td>NaN</td>\n",
       "      <td>NaN</td>\n",
       "    </tr>\n",
       "  </tbody>\n",
       "</table>\n",
       "</div>"
      ],
      "text/plain": [
       "     defendant_id                  name gender race  start_date    end_date  \\\n",
       "36          20044  GLOSSER, CARMEN LICY      F    A  2022-01-29  2022-01-30   \n",
       "293         25914  MERZLAK, THOMAS JOHN      M    I  2022-02-11  2022-02-17   \n",
       "363         22546            YANG, PHIA      M    A  2022-02-04  2022-02-04   \n",
       "\n",
       "     days  min_level  max_level  has_violation  violent  dwi  \n",
       "36      2          2          2              0      NaN  NaN  \n",
       "293     7          1          4              0      NaN  NaN  \n",
       "363     1          1          5              0      NaN  NaN  "
      ]
     },
     "execution_count": 15,
     "metadata": {},
     "output_type": "execute_result"
    }
   ],
   "source": [
    "dfIA.head()"
   ]
  },
  {
   "cell_type": "markdown",
   "metadata": {},
   "source": [
    "Only 3 people are not Black or white, so I'm unable make graphs of the other race groups."
   ]
  },
  {
   "cell_type": "markdown",
   "metadata": {},
   "source": [
    "## Other (in progress)"
   ]
  },
  {
   "cell_type": "code",
   "execution_count": 16,
   "metadata": {},
   "outputs": [
    {
     "data": {
      "text/html": [
       "<div>\n",
       "<style scoped>\n",
       "    .dataframe tbody tr th:only-of-type {\n",
       "        vertical-align: middle;\n",
       "    }\n",
       "\n",
       "    .dataframe tbody tr th {\n",
       "        vertical-align: top;\n",
       "    }\n",
       "\n",
       "    .dataframe thead th {\n",
       "        text-align: right;\n",
       "    }\n",
       "</style>\n",
       "<table border=\"1\" class=\"dataframe\">\n",
       "  <thead>\n",
       "    <tr style=\"text-align: right;\">\n",
       "      <th></th>\n",
       "      <th>defendant_id</th>\n",
       "      <th>name</th>\n",
       "      <th>gender</th>\n",
       "      <th>race</th>\n",
       "      <th>start_date</th>\n",
       "      <th>end_date</th>\n",
       "      <th>days</th>\n",
       "      <th>min_level</th>\n",
       "      <th>max_level</th>\n",
       "      <th>has_violation</th>\n",
       "      <th>violent</th>\n",
       "      <th>dwi</th>\n",
       "    </tr>\n",
       "  </thead>\n",
       "  <tbody>\n",
       "    <tr>\n",
       "      <th>0</th>\n",
       "      <td>12525</td>\n",
       "      <td>PHILLIPS, TIFFANY ANN</td>\n",
       "      <td>F</td>\n",
       "      <td>W</td>\n",
       "      <td>2022-01-13</td>\n",
       "      <td>2022-01-13</td>\n",
       "      <td>1</td>\n",
       "      <td>-1</td>\n",
       "      <td>-1</td>\n",
       "      <td>1</td>\n",
       "      <td>NaN</td>\n",
       "      <td>NaN</td>\n",
       "    </tr>\n",
       "    <tr>\n",
       "      <th>1</th>\n",
       "      <td>26031</td>\n",
       "      <td>TRAVIS, CHRISTOPHER ADAM</td>\n",
       "      <td>M</td>\n",
       "      <td>W</td>\n",
       "      <td>2022-02-11</td>\n",
       "      <td>2022-02-15</td>\n",
       "      <td>5</td>\n",
       "      <td>-1</td>\n",
       "      <td>2</td>\n",
       "      <td>0</td>\n",
       "      <td>NaN</td>\n",
       "      <td>NaN</td>\n",
       "    </tr>\n",
       "    <tr>\n",
       "      <th>2</th>\n",
       "      <td>28218</td>\n",
       "      <td>PETERS, BRYSON JOSIAH</td>\n",
       "      <td>M</td>\n",
       "      <td>W</td>\n",
       "      <td>2022-02-16</td>\n",
       "      <td>2022-02-18</td>\n",
       "      <td>3</td>\n",
       "      <td>11</td>\n",
       "      <td>12</td>\n",
       "      <td>0</td>\n",
       "      <td>NaN</td>\n",
       "      <td>NaN</td>\n",
       "    </tr>\n",
       "    <tr>\n",
       "      <th>3</th>\n",
       "      <td>19278</td>\n",
       "      <td>HODGES, RICHARD SCOTT</td>\n",
       "      <td>M</td>\n",
       "      <td>W</td>\n",
       "      <td>2022-01-28</td>\n",
       "      <td>2022-01-29</td>\n",
       "      <td>2</td>\n",
       "      <td>2</td>\n",
       "      <td>4</td>\n",
       "      <td>0</td>\n",
       "      <td>NaN</td>\n",
       "      <td>NaN</td>\n",
       "    </tr>\n",
       "    <tr>\n",
       "      <th>4</th>\n",
       "      <td>9808</td>\n",
       "      <td>LOOPER, REGINALD ALAN</td>\n",
       "      <td>M</td>\n",
       "      <td>B</td>\n",
       "      <td>2022-01-07</td>\n",
       "      <td>2022-01-24</td>\n",
       "      <td>18</td>\n",
       "      <td>-1</td>\n",
       "      <td>-1</td>\n",
       "      <td>1</td>\n",
       "      <td>NaN</td>\n",
       "      <td>NaN</td>\n",
       "    </tr>\n",
       "  </tbody>\n",
       "</table>\n",
       "</div>"
      ],
      "text/plain": [
       "   defendant_id                      name gender race  start_date    end_date  \\\n",
       "0         12525     PHILLIPS, TIFFANY ANN      F    W  2022-01-13  2022-01-13   \n",
       "1         26031  TRAVIS, CHRISTOPHER ADAM      M    W  2022-02-11  2022-02-15   \n",
       "2         28218     PETERS, BRYSON JOSIAH      M    W  2022-02-16  2022-02-18   \n",
       "3         19278     HODGES, RICHARD SCOTT      M    W  2022-01-28  2022-01-29   \n",
       "4          9808     LOOPER, REGINALD ALAN      M    B  2022-01-07  2022-01-24   \n",
       "\n",
       "   days  min_level  max_level  has_violation  violent  dwi  \n",
       "0     1         -1         -1              1      NaN  NaN  \n",
       "1     5         -1          2              0      NaN  NaN  \n",
       "2     3         11         12              0      NaN  NaN  \n",
       "3     2          2          4              0      NaN  NaN  \n",
       "4    18         -1         -1              1      NaN  NaN  "
      ]
     },
     "execution_count": 16,
     "metadata": {},
     "output_type": "execute_result"
    }
   ],
   "source": [
    "df.head()"
   ]
  },
  {
   "cell_type": "code",
   "execution_count": 17,
   "metadata": {},
   "outputs": [
    {
     "data": {
      "text/plain": [
       "array([-1, 11,  2,  1, -3,  6,  3,  5,  4,  9])"
      ]
     },
     "execution_count": 17,
     "metadata": {},
     "output_type": "execute_result"
    }
   ],
   "source": [
    "df['min_level'].unique()"
   ]
  },
  {
   "cell_type": "code",
   "execution_count": 18,
   "metadata": {},
   "outputs": [
    {
     "data": {
      "text/plain": [
       "array([-1,  2, 12,  4,  6,  1,  5,  3,  7, -3,  8, 11,  9, 10])"
      ]
     },
     "execution_count": 18,
     "metadata": {},
     "output_type": "execute_result"
    }
   ],
   "source": [
    "df['max_level'].unique()"
   ]
  },
  {
   "cell_type": "code",
   "execution_count": 19,
   "metadata": {},
   "outputs": [
    {
     "data": {
      "text/plain": [
       "array([1, 0])"
      ]
     },
     "execution_count": 19,
     "metadata": {},
     "output_type": "execute_result"
    }
   ],
   "source": [
    "df['has_violation'].unique()"
   ]
  },
  {
   "cell_type": "code",
   "execution_count": 21,
   "metadata": {},
   "outputs": [
    {
     "data": {
      "text/html": [
       "<div>\n",
       "<style scoped>\n",
       "    .dataframe tbody tr th:only-of-type {\n",
       "        vertical-align: middle;\n",
       "    }\n",
       "\n",
       "    .dataframe tbody tr th {\n",
       "        vertical-align: top;\n",
       "    }\n",
       "\n",
       "    .dataframe thead th {\n",
       "        text-align: right;\n",
       "    }\n",
       "</style>\n",
       "<table border=\"1\" class=\"dataframe\">\n",
       "  <thead>\n",
       "    <tr style=\"text-align: right;\">\n",
       "      <th></th>\n",
       "      <th>defendant_id</th>\n",
       "      <th>name</th>\n",
       "      <th>gender</th>\n",
       "      <th>race</th>\n",
       "      <th>start_date</th>\n",
       "      <th>end_date</th>\n",
       "      <th>days</th>\n",
       "      <th>min_level</th>\n",
       "      <th>max_level</th>\n",
       "      <th>has_violation</th>\n",
       "      <th>violent</th>\n",
       "      <th>dwi</th>\n",
       "    </tr>\n",
       "  </thead>\n",
       "  <tbody>\n",
       "    <tr>\n",
       "      <th>0</th>\n",
       "      <td>12525</td>\n",
       "      <td>PHILLIPS, TIFFANY ANN</td>\n",
       "      <td>F</td>\n",
       "      <td>W</td>\n",
       "      <td>2022-01-13</td>\n",
       "      <td>2022-01-13</td>\n",
       "      <td>1</td>\n",
       "      <td>-1</td>\n",
       "      <td>-1</td>\n",
       "      <td>1</td>\n",
       "      <td>NaN</td>\n",
       "      <td>NaN</td>\n",
       "    </tr>\n",
       "    <tr>\n",
       "      <th>1</th>\n",
       "      <td>26031</td>\n",
       "      <td>TRAVIS, CHRISTOPHER ADAM</td>\n",
       "      <td>M</td>\n",
       "      <td>W</td>\n",
       "      <td>2022-02-11</td>\n",
       "      <td>2022-02-15</td>\n",
       "      <td>5</td>\n",
       "      <td>-1</td>\n",
       "      <td>2</td>\n",
       "      <td>0</td>\n",
       "      <td>NaN</td>\n",
       "      <td>NaN</td>\n",
       "    </tr>\n",
       "    <tr>\n",
       "      <th>2</th>\n",
       "      <td>28218</td>\n",
       "      <td>PETERS, BRYSON JOSIAH</td>\n",
       "      <td>M</td>\n",
       "      <td>W</td>\n",
       "      <td>2022-02-16</td>\n",
       "      <td>2022-02-18</td>\n",
       "      <td>3</td>\n",
       "      <td>11</td>\n",
       "      <td>12</td>\n",
       "      <td>0</td>\n",
       "      <td>NaN</td>\n",
       "      <td>NaN</td>\n",
       "    </tr>\n",
       "    <tr>\n",
       "      <th>3</th>\n",
       "      <td>19278</td>\n",
       "      <td>HODGES, RICHARD SCOTT</td>\n",
       "      <td>M</td>\n",
       "      <td>W</td>\n",
       "      <td>2022-01-28</td>\n",
       "      <td>2022-01-29</td>\n",
       "      <td>2</td>\n",
       "      <td>2</td>\n",
       "      <td>4</td>\n",
       "      <td>0</td>\n",
       "      <td>NaN</td>\n",
       "      <td>NaN</td>\n",
       "    </tr>\n",
       "    <tr>\n",
       "      <th>4</th>\n",
       "      <td>9808</td>\n",
       "      <td>LOOPER, REGINALD ALAN</td>\n",
       "      <td>M</td>\n",
       "      <td>B</td>\n",
       "      <td>2022-01-07</td>\n",
       "      <td>2022-01-24</td>\n",
       "      <td>18</td>\n",
       "      <td>-1</td>\n",
       "      <td>-1</td>\n",
       "      <td>1</td>\n",
       "      <td>NaN</td>\n",
       "      <td>NaN</td>\n",
       "    </tr>\n",
       "  </tbody>\n",
       "</table>\n",
       "</div>"
      ],
      "text/plain": [
       "   defendant_id                      name gender race  start_date    end_date  \\\n",
       "0         12525     PHILLIPS, TIFFANY ANN      F    W  2022-01-13  2022-01-13   \n",
       "1         26031  TRAVIS, CHRISTOPHER ADAM      M    W  2022-02-11  2022-02-15   \n",
       "2         28218     PETERS, BRYSON JOSIAH      M    W  2022-02-16  2022-02-18   \n",
       "3         19278     HODGES, RICHARD SCOTT      M    W  2022-01-28  2022-01-29   \n",
       "4          9808     LOOPER, REGINALD ALAN      M    B  2022-01-07  2022-01-24   \n",
       "\n",
       "   days  min_level  max_level  has_violation  violent  dwi  \n",
       "0     1         -1         -1              1      NaN  NaN  \n",
       "1     5         -1          2              0      NaN  NaN  \n",
       "2     3         11         12              0      NaN  NaN  \n",
       "3     2          2          4              0      NaN  NaN  \n",
       "4    18         -1         -1              1      NaN  NaN  "
      ]
     },
     "execution_count": 21,
     "metadata": {},
     "output_type": "execute_result"
    }
   ],
   "source": [
    "df.head()"
   ]
  },
  {
   "cell_type": "code",
   "execution_count": 25,
   "metadata": {},
   "outputs": [
    {
     "data": {
      "text/html": [
       "<div>\n",
       "<style scoped>\n",
       "    .dataframe tbody tr th:only-of-type {\n",
       "        vertical-align: middle;\n",
       "    }\n",
       "\n",
       "    .dataframe tbody tr th {\n",
       "        vertical-align: top;\n",
       "    }\n",
       "\n",
       "    .dataframe thead th {\n",
       "        text-align: right;\n",
       "    }\n",
       "</style>\n",
       "<table border=\"1\" class=\"dataframe\">\n",
       "  <thead>\n",
       "    <tr style=\"text-align: right;\">\n",
       "      <th></th>\n",
       "      <th>defendant_id</th>\n",
       "      <th>name</th>\n",
       "      <th>gender</th>\n",
       "      <th>race</th>\n",
       "      <th>start_date</th>\n",
       "      <th>end_date</th>\n",
       "      <th>days</th>\n",
       "      <th>min_level</th>\n",
       "      <th>max_level</th>\n",
       "      <th>has_violation</th>\n",
       "      <th>violent</th>\n",
       "      <th>dwi</th>\n",
       "    </tr>\n",
       "  </thead>\n",
       "  <tbody>\n",
       "    <tr>\n",
       "      <th>0</th>\n",
       "      <td>12525</td>\n",
       "      <td>PHILLIPS, TIFFANY ANN</td>\n",
       "      <td>F</td>\n",
       "      <td>W</td>\n",
       "      <td>2022-01-13</td>\n",
       "      <td>2022-01-13</td>\n",
       "      <td>1</td>\n",
       "      <td>-1</td>\n",
       "      <td>-1</td>\n",
       "      <td>1</td>\n",
       "      <td>NaN</td>\n",
       "      <td>NaN</td>\n",
       "    </tr>\n",
       "    <tr>\n",
       "      <th>1</th>\n",
       "      <td>26031</td>\n",
       "      <td>TRAVIS, CHRISTOPHER ADAM</td>\n",
       "      <td>M</td>\n",
       "      <td>W</td>\n",
       "      <td>2022-02-11</td>\n",
       "      <td>2022-02-15</td>\n",
       "      <td>5</td>\n",
       "      <td>-1</td>\n",
       "      <td>2</td>\n",
       "      <td>0</td>\n",
       "      <td>NaN</td>\n",
       "      <td>NaN</td>\n",
       "    </tr>\n",
       "    <tr>\n",
       "      <th>2</th>\n",
       "      <td>28218</td>\n",
       "      <td>PETERS, BRYSON JOSIAH</td>\n",
       "      <td>M</td>\n",
       "      <td>W</td>\n",
       "      <td>2022-02-16</td>\n",
       "      <td>2022-02-18</td>\n",
       "      <td>3</td>\n",
       "      <td>11</td>\n",
       "      <td>12</td>\n",
       "      <td>0</td>\n",
       "      <td>NaN</td>\n",
       "      <td>NaN</td>\n",
       "    </tr>\n",
       "    <tr>\n",
       "      <th>3</th>\n",
       "      <td>19278</td>\n",
       "      <td>HODGES, RICHARD SCOTT</td>\n",
       "      <td>M</td>\n",
       "      <td>W</td>\n",
       "      <td>2022-01-28</td>\n",
       "      <td>2022-01-29</td>\n",
       "      <td>2</td>\n",
       "      <td>2</td>\n",
       "      <td>4</td>\n",
       "      <td>0</td>\n",
       "      <td>NaN</td>\n",
       "      <td>NaN</td>\n",
       "    </tr>\n",
       "    <tr>\n",
       "      <th>4</th>\n",
       "      <td>9808</td>\n",
       "      <td>LOOPER, REGINALD ALAN</td>\n",
       "      <td>M</td>\n",
       "      <td>B</td>\n",
       "      <td>2022-01-07</td>\n",
       "      <td>2022-01-24</td>\n",
       "      <td>18</td>\n",
       "      <td>-1</td>\n",
       "      <td>-1</td>\n",
       "      <td>1</td>\n",
       "      <td>NaN</td>\n",
       "      <td>NaN</td>\n",
       "    </tr>\n",
       "  </tbody>\n",
       "</table>\n",
       "</div>"
      ],
      "text/plain": [
       "   defendant_id                      name gender race  start_date    end_date  \\\n",
       "0         12525     PHILLIPS, TIFFANY ANN      F    W  2022-01-13  2022-01-13   \n",
       "1         26031  TRAVIS, CHRISTOPHER ADAM      M    W  2022-02-11  2022-02-15   \n",
       "2         28218     PETERS, BRYSON JOSIAH      M    W  2022-02-16  2022-02-18   \n",
       "3         19278     HODGES, RICHARD SCOTT      M    W  2022-01-28  2022-01-29   \n",
       "4          9808     LOOPER, REGINALD ALAN      M    B  2022-01-07  2022-01-24   \n",
       "\n",
       "   days  min_level  max_level  has_violation  violent  dwi  \n",
       "0     1         -1         -1              1      NaN  NaN  \n",
       "1     5         -1          2              0      NaN  NaN  \n",
       "2     3         11         12              0      NaN  NaN  \n",
       "3     2          2          4              0      NaN  NaN  \n",
       "4    18         -1         -1              1      NaN  NaN  "
      ]
     },
     "execution_count": 25,
     "metadata": {},
     "output_type": "execute_result"
    }
   ],
   "source": [
    "dfExploded = df.explode(['race', 'gender'])\n",
    "dfExploded.head()"
   ]
  },
  {
   "cell_type": "markdown",
   "metadata": {},
   "source": [
    "I was going to look into correlations between race/gender/max_level/has_violation, but I need to go read up on some stats first"
   ]
  },
  {
   "cell_type": "markdown",
   "metadata": {},
   "source": [
    "## White males"
   ]
  },
  {
   "cell_type": "code",
   "execution_count": 48,
   "metadata": {},
   "outputs": [],
   "source": [
    "dfWM = df[(df['race']=='W') & (df['gender']=='M')]"
   ]
  },
  {
   "cell_type": "code",
   "execution_count": 49,
   "metadata": {},
   "outputs": [
    {
     "data": {
      "text/html": [
       "<div>\n",
       "<style scoped>\n",
       "    .dataframe tbody tr th:only-of-type {\n",
       "        vertical-align: middle;\n",
       "    }\n",
       "\n",
       "    .dataframe tbody tr th {\n",
       "        vertical-align: top;\n",
       "    }\n",
       "\n",
       "    .dataframe thead th {\n",
       "        text-align: right;\n",
       "    }\n",
       "</style>\n",
       "<table border=\"1\" class=\"dataframe\">\n",
       "  <thead>\n",
       "    <tr style=\"text-align: right;\">\n",
       "      <th></th>\n",
       "      <th>defendant_id</th>\n",
       "      <th>name</th>\n",
       "      <th>gender</th>\n",
       "      <th>race</th>\n",
       "      <th>start_date</th>\n",
       "      <th>end_date</th>\n",
       "      <th>days</th>\n",
       "      <th>min_level</th>\n",
       "      <th>max_level</th>\n",
       "      <th>has_violation</th>\n",
       "      <th>violent</th>\n",
       "      <th>dwi</th>\n",
       "    </tr>\n",
       "  </thead>\n",
       "  <tbody>\n",
       "    <tr>\n",
       "      <th>1</th>\n",
       "      <td>26031</td>\n",
       "      <td>TRAVIS, CHRISTOPHER ADAM</td>\n",
       "      <td>M</td>\n",
       "      <td>W</td>\n",
       "      <td>2022-02-11</td>\n",
       "      <td>2022-02-15</td>\n",
       "      <td>5</td>\n",
       "      <td>-1</td>\n",
       "      <td>2</td>\n",
       "      <td>0</td>\n",
       "      <td>NaN</td>\n",
       "      <td>NaN</td>\n",
       "    </tr>\n",
       "    <tr>\n",
       "      <th>2</th>\n",
       "      <td>28218</td>\n",
       "      <td>PETERS, BRYSON JOSIAH</td>\n",
       "      <td>M</td>\n",
       "      <td>W</td>\n",
       "      <td>2022-02-16</td>\n",
       "      <td>2022-02-18</td>\n",
       "      <td>3</td>\n",
       "      <td>11</td>\n",
       "      <td>12</td>\n",
       "      <td>0</td>\n",
       "      <td>NaN</td>\n",
       "      <td>NaN</td>\n",
       "    </tr>\n",
       "    <tr>\n",
       "      <th>3</th>\n",
       "      <td>19278</td>\n",
       "      <td>HODGES, RICHARD SCOTT</td>\n",
       "      <td>M</td>\n",
       "      <td>W</td>\n",
       "      <td>2022-01-28</td>\n",
       "      <td>2022-01-29</td>\n",
       "      <td>2</td>\n",
       "      <td>2</td>\n",
       "      <td>4</td>\n",
       "      <td>0</td>\n",
       "      <td>NaN</td>\n",
       "      <td>NaN</td>\n",
       "    </tr>\n",
       "    <tr>\n",
       "      <th>5</th>\n",
       "      <td>16245</td>\n",
       "      <td>BECKER, TIMOTHY CALEB</td>\n",
       "      <td>M</td>\n",
       "      <td>W</td>\n",
       "      <td>2022-01-22</td>\n",
       "      <td>2022-01-27</td>\n",
       "      <td>6</td>\n",
       "      <td>-1</td>\n",
       "      <td>6</td>\n",
       "      <td>0</td>\n",
       "      <td>NaN</td>\n",
       "      <td>NaN</td>\n",
       "    </tr>\n",
       "    <tr>\n",
       "      <th>7</th>\n",
       "      <td>14977</td>\n",
       "      <td>FAIRCHILD, JEFFREY LEWIS</td>\n",
       "      <td>M</td>\n",
       "      <td>W</td>\n",
       "      <td>2022-01-19</td>\n",
       "      <td>2022-01-19</td>\n",
       "      <td>1</td>\n",
       "      <td>1</td>\n",
       "      <td>1</td>\n",
       "      <td>0</td>\n",
       "      <td>NaN</td>\n",
       "      <td>NaN</td>\n",
       "    </tr>\n",
       "  </tbody>\n",
       "</table>\n",
       "</div>"
      ],
      "text/plain": [
       "   defendant_id                      name gender race  start_date    end_date  \\\n",
       "1         26031  TRAVIS, CHRISTOPHER ADAM      M    W  2022-02-11  2022-02-15   \n",
       "2         28218     PETERS, BRYSON JOSIAH      M    W  2022-02-16  2022-02-18   \n",
       "3         19278     HODGES, RICHARD SCOTT      M    W  2022-01-28  2022-01-29   \n",
       "5         16245     BECKER, TIMOTHY CALEB      M    W  2022-01-22  2022-01-27   \n",
       "7         14977  FAIRCHILD, JEFFREY LEWIS      M    W  2022-01-19  2022-01-19   \n",
       "\n",
       "   days  min_level  max_level  has_violation  violent  dwi  \n",
       "1     5         -1          2              0      NaN  NaN  \n",
       "2     3         11         12              0      NaN  NaN  \n",
       "3     2          2          4              0      NaN  NaN  \n",
       "5     6         -1          6              0      NaN  NaN  \n",
       "7     1          1          1              0      NaN  NaN  "
      ]
     },
     "execution_count": 49,
     "metadata": {},
     "output_type": "execute_result"
    }
   ],
   "source": [
    "dfWM.head()"
   ]
  },
  {
   "cell_type": "markdown",
   "metadata": {},
   "source": [
    "idea- take a look at level/has_violation distributions"
   ]
  },
  {
   "cell_type": "code",
   "execution_count": null,
   "metadata": {},
   "outputs": [],
   "source": []
  }
 ],
 "metadata": {
  "kernelspec": {
   "display_name": "Python 3",
   "language": "python",
   "name": "python3"
  },
  "language_info": {
   "codemirror_mode": {
    "name": "ipython",
    "version": 3
   },
   "file_extension": ".py",
   "mimetype": "text/x-python",
   "name": "python",
   "nbconvert_exporter": "python",
   "pygments_lexer": "ipython3",
   "version": "3.7.4"
  }
 },
 "nbformat": 4,
 "nbformat_minor": 2
}
