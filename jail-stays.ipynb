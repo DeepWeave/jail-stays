{
 "cells": [
  {
   "cell_type": "code",
   "execution_count": 114,
   "id": "29d88193-9912-44e2-bfee-fee2e70437bf",
   "metadata": {},
   "outputs": [],
   "source": [
    "import os\n",
    "import pandas as pd\n",
    "from sqlalchemy import create_engine\n",
    "import psycopg2\n",
    "from dotenv import load_dotenv\n",
    "import urllib.parse\n",
    "import seaborn as sns\n",
    "import matplotlib.pyplot as plt\n",
    "\n",
    "load_dotenv()\n",
    "POSTGRES_USERNAME = os.environ.get('JDB_USER')\n",
    "POSTGRES_PASSWORD = os.environ.get('JDB_PASSWORD')\n",
    "POSTGRES_ADDRESS = os.environ.get('JDB_HOST')\n",
    "POSTGRES_PORT = 5432\n",
    "POSTGRES_DBNAME = os.environ.get('JDB_NAME')\n",
    "postgres_str = ('postgresql://{username}:{password}@{ipaddress}:{port}/{dbname}'.format(username=POSTGRES_USERNAME, password=POSTGRES_PASSWORD, ipaddress=POSTGRES_ADDRESS, port=POSTGRES_PORT, dbname=POSTGRES_DBNAME))\n",
    "cnx = create_engine(postgres_str)\n"
   ]
  },
  {
   "cell_type": "code",
   "execution_count": 116,
   "id": "c01b10d7-7375-4169-ace2-44444009eca2",
   "metadata": {
    "scrolled": true
   },
   "outputs": [
    {
     "data": {
      "text/html": [
       "<div>\n",
       "<style scoped>\n",
       "    .dataframe tbody tr th:only-of-type {\n",
       "        vertical-align: middle;\n",
       "    }\n",
       "\n",
       "    .dataframe tbody tr th {\n",
       "        vertical-align: top;\n",
       "    }\n",
       "\n",
       "    .dataframe thead th {\n",
       "        text-align: right;\n",
       "    }\n",
       "</style>\n",
       "<table border=\"1\" class=\"dataframe\">\n",
       "  <thead>\n",
       "    <tr style=\"text-align: right;\">\n",
       "      <th></th>\n",
       "      <th>defendant_id</th>\n",
       "      <th>name</th>\n",
       "      <th>gender</th>\n",
       "      <th>race</th>\n",
       "      <th>start_date</th>\n",
       "      <th>end_date</th>\n",
       "      <th>days</th>\n",
       "      <th>min_level</th>\n",
       "      <th>max_level</th>\n",
       "      <th>has_violation</th>\n",
       "      <th>violent</th>\n",
       "      <th>dwi</th>\n",
       "      <th>flag</th>\n",
       "      <th>not_primary_custodian</th>\n",
       "    </tr>\n",
       "  </thead>\n",
       "  <tbody>\n",
       "    <tr>\n",
       "      <th>0</th>\n",
       "      <td>9609</td>\n",
       "      <td>BROOKS, JOSHUA MICHEAL</td>\n",
       "      <td>M</td>\n",
       "      <td>W</td>\n",
       "      <td>2022-01-07</td>\n",
       "      <td>2022-01-07</td>\n",
       "      <td>1.0</td>\n",
       "      <td>4</td>\n",
       "      <td>4</td>\n",
       "      <td>0</td>\n",
       "      <td>1</td>\n",
       "      <td>0</td>\n",
       "      <td>0</td>\n",
       "      <td>0</td>\n",
       "    </tr>\n",
       "    <tr>\n",
       "      <th>1</th>\n",
       "      <td>9615</td>\n",
       "      <td>BUCHANAN, JONATHAN PHILLIP</td>\n",
       "      <td>M</td>\n",
       "      <td>W</td>\n",
       "      <td>2022-01-07</td>\n",
       "      <td>2022-01-07</td>\n",
       "      <td>1.0</td>\n",
       "      <td>3</td>\n",
       "      <td>3</td>\n",
       "      <td>0</td>\n",
       "      <td>0</td>\n",
       "      <td>0</td>\n",
       "      <td>0</td>\n",
       "      <td>0</td>\n",
       "    </tr>\n",
       "    <tr>\n",
       "      <th>2</th>\n",
       "      <td>9689</td>\n",
       "      <td>ELLIOTT, ASHLEY NICOLE</td>\n",
       "      <td>F</td>\n",
       "      <td>W</td>\n",
       "      <td>2022-01-07</td>\n",
       "      <td>2022-01-07</td>\n",
       "      <td>1.0</td>\n",
       "      <td>2</td>\n",
       "      <td>2</td>\n",
       "      <td>0</td>\n",
       "      <td>0</td>\n",
       "      <td>0</td>\n",
       "      <td>0</td>\n",
       "      <td>0</td>\n",
       "    </tr>\n",
       "    <tr>\n",
       "      <th>3</th>\n",
       "      <td>9763</td>\n",
       "      <td>HUTCHISON, MICHAEL HANNA</td>\n",
       "      <td>M</td>\n",
       "      <td>W</td>\n",
       "      <td>2022-01-07</td>\n",
       "      <td>2022-01-07</td>\n",
       "      <td>1.0</td>\n",
       "      <td>4</td>\n",
       "      <td>4</td>\n",
       "      <td>0</td>\n",
       "      <td>0</td>\n",
       "      <td>0</td>\n",
       "      <td>0</td>\n",
       "      <td>0</td>\n",
       "    </tr>\n",
       "    <tr>\n",
       "      <th>4</th>\n",
       "      <td>9990</td>\n",
       "      <td>WIMBLEY, JAMES COLEY</td>\n",
       "      <td>M</td>\n",
       "      <td>B</td>\n",
       "      <td>2022-01-07</td>\n",
       "      <td>2022-01-07</td>\n",
       "      <td>1.0</td>\n",
       "      <td>1</td>\n",
       "      <td>3</td>\n",
       "      <td>0</td>\n",
       "      <td>0</td>\n",
       "      <td>1</td>\n",
       "      <td>0</td>\n",
       "      <td>0</td>\n",
       "    </tr>\n",
       "    <tr>\n",
       "      <th>...</th>\n",
       "      <td>...</td>\n",
       "      <td>...</td>\n",
       "      <td>...</td>\n",
       "      <td>...</td>\n",
       "      <td>...</td>\n",
       "      <td>...</td>\n",
       "      <td>...</td>\n",
       "      <td>...</td>\n",
       "      <td>...</td>\n",
       "      <td>...</td>\n",
       "      <td>...</td>\n",
       "      <td>...</td>\n",
       "      <td>...</td>\n",
       "      <td>...</td>\n",
       "    </tr>\n",
       "    <tr>\n",
       "      <th>855</th>\n",
       "      <td>43777</td>\n",
       "      <td>BRANAM, KEVIN RAY</td>\n",
       "      <td>M</td>\n",
       "      <td>W</td>\n",
       "      <td>2022-03-25</td>\n",
       "      <td>2022-03-25</td>\n",
       "      <td>1.0</td>\n",
       "      <td>1</td>\n",
       "      <td>3</td>\n",
       "      <td>0</td>\n",
       "      <td>0</td>\n",
       "      <td>0</td>\n",
       "      <td>0</td>\n",
       "      <td>0</td>\n",
       "    </tr>\n",
       "    <tr>\n",
       "      <th>856</th>\n",
       "      <td>43799</td>\n",
       "      <td>CANTRELL, MARGIE MARIE</td>\n",
       "      <td>F</td>\n",
       "      <td>W</td>\n",
       "      <td>2022-03-25</td>\n",
       "      <td>2022-03-25</td>\n",
       "      <td>1.0</td>\n",
       "      <td>3</td>\n",
       "      <td>3</td>\n",
       "      <td>0</td>\n",
       "      <td>0</td>\n",
       "      <td>0</td>\n",
       "      <td>0</td>\n",
       "      <td>0</td>\n",
       "    </tr>\n",
       "    <tr>\n",
       "      <th>857</th>\n",
       "      <td>43940</td>\n",
       "      <td>KOLB, JAYSEN DANIEL</td>\n",
       "      <td>M</td>\n",
       "      <td>W</td>\n",
       "      <td>2022-03-25</td>\n",
       "      <td>2022-03-25</td>\n",
       "      <td>1.0</td>\n",
       "      <td>3</td>\n",
       "      <td>3</td>\n",
       "      <td>0</td>\n",
       "      <td>0</td>\n",
       "      <td>0</td>\n",
       "      <td>0</td>\n",
       "      <td>0</td>\n",
       "    </tr>\n",
       "    <tr>\n",
       "      <th>858</th>\n",
       "      <td>44165</td>\n",
       "      <td>BIGWITCH, JACOB NATHANIEL</td>\n",
       "      <td>M</td>\n",
       "      <td>I</td>\n",
       "      <td>2022-03-26</td>\n",
       "      <td>2022-03-26</td>\n",
       "      <td>1.0</td>\n",
       "      <td>5</td>\n",
       "      <td>6</td>\n",
       "      <td>0</td>\n",
       "      <td>0</td>\n",
       "      <td>0</td>\n",
       "      <td>0</td>\n",
       "      <td>0</td>\n",
       "    </tr>\n",
       "    <tr>\n",
       "      <th>859</th>\n",
       "      <td>44091</td>\n",
       "      <td>TAYLOR, STACEY JO-LIN</td>\n",
       "      <td>M</td>\n",
       "      <td>B</td>\n",
       "      <td>2022-03-25</td>\n",
       "      <td>2022-03-26</td>\n",
       "      <td>2.0</td>\n",
       "      <td>1</td>\n",
       "      <td>11</td>\n",
       "      <td>0</td>\n",
       "      <td>0</td>\n",
       "      <td>0</td>\n",
       "      <td>0</td>\n",
       "      <td>0</td>\n",
       "    </tr>\n",
       "  </tbody>\n",
       "</table>\n",
       "<p>860 rows × 14 columns</p>\n",
       "</div>"
      ],
      "text/plain": [
       "     defendant_id                        name gender race  start_date  \\\n",
       "0            9609      BROOKS, JOSHUA MICHEAL      M    W  2022-01-07   \n",
       "1            9615  BUCHANAN, JONATHAN PHILLIP      M    W  2022-01-07   \n",
       "2            9689      ELLIOTT, ASHLEY NICOLE      F    W  2022-01-07   \n",
       "3            9763    HUTCHISON, MICHAEL HANNA      M    W  2022-01-07   \n",
       "4            9990        WIMBLEY, JAMES COLEY      M    B  2022-01-07   \n",
       "..            ...                         ...    ...  ...         ...   \n",
       "855         43777           BRANAM, KEVIN RAY      M    W  2022-03-25   \n",
       "856         43799      CANTRELL, MARGIE MARIE      F    W  2022-03-25   \n",
       "857         43940         KOLB, JAYSEN DANIEL      M    W  2022-03-25   \n",
       "858         44165   BIGWITCH, JACOB NATHANIEL      M    I  2022-03-26   \n",
       "859         44091       TAYLOR, STACEY JO-LIN      M    B  2022-03-25   \n",
       "\n",
       "       end_date  days  min_level  max_level  has_violation  violent  dwi  \\\n",
       "0    2022-01-07   1.0          4          4              0        1    0   \n",
       "1    2022-01-07   1.0          3          3              0        0    0   \n",
       "2    2022-01-07   1.0          2          2              0        0    0   \n",
       "3    2022-01-07   1.0          4          4              0        0    0   \n",
       "4    2022-01-07   1.0          1          3              0        0    1   \n",
       "..          ...   ...        ...        ...            ...      ...  ...   \n",
       "855  2022-03-25   1.0          1          3              0        0    0   \n",
       "856  2022-03-25   1.0          3          3              0        0    0   \n",
       "857  2022-03-25   1.0          3          3              0        0    0   \n",
       "858  2022-03-26   1.0          5          6              0        0    0   \n",
       "859  2022-03-26   2.0          1         11              0        0    0   \n",
       "\n",
       "     flag  not_primary_custodian  \n",
       "0       0                      0  \n",
       "1       0                      0  \n",
       "2       0                      0  \n",
       "3       0                      0  \n",
       "4       0                      0  \n",
       "..    ...                    ...  \n",
       "855     0                      0  \n",
       "856     0                      0  \n",
       "857     0                      0  \n",
       "858     0                      0  \n",
       "859     0                      0  \n",
       "\n",
       "[860 rows x 14 columns]"
      ]
     },
     "execution_count": 116,
     "metadata": {},
     "output_type": "execute_result"
    }
   ],
   "source": [
    "stays = pd.read_sql_query('SELECT * FROM jaildata.stays_summary where not_primary_custodian=0;',\n",
    "                          cnx)\n",
    "stays"
   ]
  },
  {
   "cell_type": "code",
   "execution_count": 176,
   "id": "f36f008e",
   "metadata": {},
   "outputs": [
    {
     "data": {
      "image/png": "[encoded data removed]",
      "text/plain": [
       "<Figure size 504x504 with 1 Axes>"
      ]
     },
     "metadata": {},
     "output_type": "display_data"
    }
   ],
   "source": [
    "tmp = stays.groupby(\"days\")[\"days\"].count().sort_index()\n",
    "days = pd.concat([tmp.iloc[:7].copy(), pd.DataFrame([[tmp.iloc[7:].sum()]], index=['8+'])])\n",
    "days.columns=['Count']\n",
    "colors=['tab:cyan', 'tab:orange', 'tab:green', 'tab:red', 'tab:purple',\n",
    "        'tab:brown', 'tab:pink', 'tab:gray', 'tab:olive', 'tab:blue', ]\n",
    "fig = days.plot.pie(subplots=True, title=\"All Stay Lengths (Days)\", counterclock=False, \n",
    "                  legend=False, autopct='%1.1f%%', pctdistance=.7, figsize=[7,7],\n",
    "                  startangle=160, colors=colors, fontsize=12)"
   ]
  },
  {
   "cell_type": "code",
   "execution_count": 205,
   "id": "08e2367d",
   "metadata": {},
   "outputs": [],
   "source": [
    "tmp = stays.loc[stays[\"race\"] == \"B\"].groupby(\"days\")[\"days\"].count().sort_index()\n",
    "daysB = pd.concat([tmp.iloc[:7].copy(), pd.DataFrame([[tmp.iloc[7:].sum()]], index=['8+'])])\n",
    "tmp = stays.loc[stays[\"race\"] == \"W\"].groupby(\"days\")[\"days\"].count().sort_index()\n",
    "daysW = pd.concat([tmp.iloc[:7].copy(), pd.DataFrame([[tmp.iloc[7:].sum()]], index=['8+'])])\n",
    "\n",
    "daysRace = pd.concat([daysW, daysB], axis=1)\n",
    "daysRace.columns = ['White', 'Black']\n",
    "daysRace.index.name = 'Days'\n",
    "daysRace['Black'] = 100 * daysRace['Black']/days.sum()[0]\n",
    "daysRace['White'] = 100 * daysRace['White']/days.sum()[1]"
   ]
  },
  {
   "cell_type": "code",
   "execution_count": 198,
   "id": "27be9271",
   "metadata": {},
   "outputs": [
    {
     "data": {
      "image/png": "[encoded data removed]",
      "text/plain": [
       "<Figure size 576x288 with 1 Axes>"
      ]
     },
     "metadata": {
      "needs_background": "light"
     },
     "output_type": "display_data"
    }
   ],
   "source": [
    "daysRace.plot.bar(title=\"Stay Lengths: Percentages by Race\", figsize=[8,4], color=['Orange','Blue'])\n",
    "plt.ylabel('Percent')\n",
    "plt.show()"
   ]
  },
  {
   "cell_type": "code",
   "execution_count": 204,
   "id": "1ccb599d",
   "metadata": {},
   "outputs": [],
   "source": [
    "tmp = stays.loc[stays[\"gender\"] == \"M\"].groupby(\"days\")[\"days\"].count().sort_index()\n",
    "daysM = pd.concat([tmp.iloc[:7].copy(), pd.DataFrame([[tmp.iloc[7:].sum()]], index=['8+'])])\n",
    "tmp = stays.loc[stays[\"gender\"] == \"F\"].groupby(\"days\")[\"days\"].count().sort_index()\n",
    "daysF = pd.concat([tmp.iloc[:7].copy(), pd.DataFrame([[tmp.iloc[7:].sum()]], index=['8+'])])\n",
    "\n",
    "daysGender = pd.concat([daysM, daysF], axis=1)\n",
    "daysGender.columns = ['Male', 'Female']\n",
    "daysGender.index.name = 'Days'\n",
    "daysGender['Male'] = 100 * daysGender['Male']/daysGender.sum()[0]\n",
    "daysGender['Female'] = 100 * daysGender['Female']/daysGender.sum()[1]"
   ]
  },
  {
   "cell_type": "code",
   "execution_count": 203,
   "id": "17366500",
   "metadata": {},
   "outputs": [
    {
     "data": {
      "image/png": "[encoded data removed]",
      "text/plain": [
       "<Figure size 576x288 with 1 Axes>"
      ]
     },
     "metadata": {
      "needs_background": "light"
     },
     "output_type": "display_data"
    }
   ],
   "source": [
    "daysGender.plot.bar(title=\"Stay Lengths: Percentages by Gender\", figsize=[8,4], color=['Green','Purple'])\n",
    "plt.ylabel('Percent')\n",
    "plt.show()"
   ]
  },
  {
   "cell_type": "code",
   "execution_count": 225,
   "id": "41120d80",
   "metadata": {},
   "outputs": [
    {
     "data": {
      "text/plain": [
       "<AxesSubplot:title={'center':'Charge Level Distribution (Nonviolent) for Stays of a Week or Less'}>"
      ]
     },
     "execution_count": 225,
     "metadata": {},
     "output_type": "execute_result"
    },
    {
     "data": {
      "image/png": "[encoded data removed]",
      "text/plain": [
       "<Figure size 576x288 with 1 Axes>"
      ]
     },
     "metadata": {
      "needs_background": "light"
     },
     "output_type": "display_data"
    }
   ],
   "source": [
    "weekStays = stays[(stays[\"max_level\"]<7) & (stays[\"days\"] < 8) & (stays[\"violent\"]==0) & (stays[\"has_violation\"]==0)]\n",
    "weekStays = weekStays.sort_values(by=[\"max_level\"], ascending=True)\n",
    "weekStays = weekStays.groupby(\"max_level\", as_index=True)[\"max_level\"].count().sort_index()\n",
    "weekStays.index.name = 'Level'\n",
    "weekStays.columns = ['Count']\n",
    "weekStays.index = ['0', 'M-3', 'M-2', 'M-1', 'M-A1', 'F-I', 'F-H']\n",
    "weekStays.plot.bar(title='Charge Level Distribution (Nonviolent) for Stays of a Week or Less', figsize=[8,4])\n"
   ]
  },
  {
   "cell_type": "code",
   "execution_count": 227,
   "id": "0052d3ba",
   "metadata": {},
   "outputs": [
    {
     "data": {
      "text/plain": [
       "<AxesSubplot:title={'center':'Charge Level Distribution (Nonviolent) for Stays of 3 Days or Less'}>"
      ]
     },
     "execution_count": 227,
     "metadata": {},
     "output_type": "execute_result"
    },
    {
     "data": {
      "image/png": "[encoded data removed]",
      "text/plain": [
       "<Figure size 576x288 with 1 Axes>"
      ]
     },
     "metadata": {
      "needs_background": "light"
     },
     "output_type": "display_data"
    }
   ],
   "source": [
    "days3Stays = stays[(stays[\"max_level\"]<7) & (stays[\"days\"] < 4) & (stays[\"violent\"]==0) & (stays[\"has_violation\"]==0)]\n",
    "days3Stays = days3Stays.sort_values(by=[\"max_level\"], ascending=True)\n",
    "days3Stays = days3Stays.groupby(\"max_level\", as_index=True)[\"max_level\"].count().sort_index()\n",
    "days3Stays.index.name = 'Level'\n",
    "days3Stays.columns = ['Count']\n",
    "days3Stays.index = ['0', 'M-3', 'M-2', 'M-1', 'M-A1', 'F-I', 'F-H']\n",
    "days3Stays.plot.bar(title='Charge Level Distribution (Nonviolent) for Stays of 3 Days or Less', figsize=[8,4])\n"
   ]
  },
  {
   "cell_type": "markdown",
   "id": "c3274cb5",
   "metadata": {},
   "source": [
    "# Map of levels:\n",
    "\n",
    "Level|Misdemeanor Description| |Level|Felony Description| |Level |Misc Description|\n",
    ":-----|:-----------| |:-----|:-----------| |:---------|:-----------|\n",
    "1|Class 3| |5|Class I| |-1|NONE|\n",
    "2|Class 2| |6|Class H| |-2|5305|\n",
    "3|Class 1| |7|Class G| |-3|??|\n",
    "4|Class A1| |8|Class F| | |\n",
    "|| |9|Class E| | | |\n",
    "|| |10|Class D| | | |\n",
    "|| |11|Class C| | | |\n",
    "|| |12|Class B1| | | |\n",
    "|| |13|Class B2| | | |\n",
    "|| |14|Class A| | | |\n"
   ]
  },
  {
   "cell_type": "code",
   "execution_count": null,
   "id": "3aa502fd",
   "metadata": {},
   "outputs": [],
   "source": []
  }
 ],
 "metadata": {
  "kernelspec": {
   "display_name": "Python 3 (ipykernel)",
   "language": "python",
   "name": "python3"
  },
  "language_info": {
   "codemirror_mode": {
    "name": "ipython",
    "version": 3
   },
   "file_extension": ".py",
   "mimetype": "text/x-python",
   "name": "python",
   "nbconvert_exporter": "python",
   "pygments_lexer": "ipython3",
   "version": "3.10.0"
  }
 },
 "nbformat": 4,
 "nbformat_minor": 5
}
